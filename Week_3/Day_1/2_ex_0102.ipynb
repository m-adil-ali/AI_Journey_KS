{
  "cells": [
    {
      "cell_type": "markdown",
      "metadata": {
        "id": "akqVO_-SeNLH"
      },
      "source": [
        "## Coding Exercise #0102"
      ]
    },
    {
      "cell_type": "markdown",
      "metadata": {
        "id": "v8aYtQMbeNLQ"
      },
      "source": [
        "### 1. NumPy array operations:"
      ]
    },
    {
      "cell_type": "markdown",
      "metadata": {
        "id": "S8gyYwKOeNLS"
      },
      "source": [
        "#### 1.1. '+' and '*' operators for Python lists:"
      ]
    },
    {
      "cell_type": "code",
      "execution_count": 1,
      "metadata": {
        "id": "Z1S8-2v6eNLU"
      },
      "outputs": [],
      "source": [
        "import numpy as np"
      ]
    },
    {
      "cell_type": "code",
      "execution_count": 2,
      "metadata": {
        "id": "uiIAUU9feNLZ"
      },
      "outputs": [],
      "source": [
        "a = [1, 2, 3]"
      ]
    },
    {
      "cell_type": "code",
      "execution_count": 3,
      "metadata": {
        "id": "Kz8XJpU8eNLc",
        "outputId": "563a418f-e5b4-46aa-9905-e8c1950f6578"
      },
      "outputs": [
        {
          "data": {
            "text/plain": [
              "[1, 2, 3, 1, 2, 3]"
            ]
          },
          "execution_count": 3,
          "metadata": {},
          "output_type": "execute_result"
        }
      ],
      "source": [
        "a + a"
      ]
    },
    {
      "cell_type": "code",
      "execution_count": 4,
      "metadata": {
        "id": "qEmFDkqIeNLg",
        "outputId": "1d506d75-b196-439f-c57f-4c8530661764"
      },
      "outputs": [
        {
          "data": {
            "text/plain": [
              "[1, 2, 3, 1, 2, 3, 1, 2, 3]"
            ]
          },
          "execution_count": 4,
          "metadata": {},
          "output_type": "execute_result"
        }
      ],
      "source": [
        "a*3"
      ]
    },
    {
      "cell_type": "code",
      "execution_count": 5,
      "metadata": {
        "id": "NBC6K6QeeNLi"
      },
      "outputs": [],
      "source": [
        "b = np.array([1, 2, 3])"
      ]
    },
    {
      "cell_type": "code",
      "execution_count": 6,
      "metadata": {
        "id": "zYMb9XaueNLj",
        "outputId": "37869c05-3e57-49ba-d4fc-68cbffbf033d"
      },
      "outputs": [
        {
          "data": {
            "text/plain": [
              "array([3, 6, 9])"
            ]
          },
          "execution_count": 6,
          "metadata": {},
          "output_type": "execute_result"
        }
      ],
      "source": [
        "b*3"
      ]
    },
    {
      "cell_type": "code",
      "execution_count": 7,
      "metadata": {
        "id": "5QDzF6jmeNLl",
        "outputId": "dab0aa5f-4590-4b94-e3ac-eb87e7ba70ce"
      },
      "outputs": [
        {
          "data": {
            "text/plain": [
              "array([2, 4, 6])"
            ]
          },
          "execution_count": 7,
          "metadata": {},
          "output_type": "execute_result"
        }
      ],
      "source": [
        "b + b"
      ]
    },
    {
      "cell_type": "code",
      "execution_count": 8,
      "metadata": {
        "id": "UJEgsglGeNLm",
        "outputId": "efa1501d-29c7-4b94-ed5a-48eea8bbf432"
      },
      "outputs": [
        {
          "data": {
            "text/plain": [
              "array([1, 1, 1, 2, 2, 2, 3, 3, 3])"
            ]
          },
          "execution_count": 8,
          "metadata": {},
          "output_type": "execute_result"
        }
      ],
      "source": [
        "np.repeat(b, 3)"
      ]
    },
    {
      "cell_type": "markdown",
      "metadata": {
        "id": "ATkMCe8EeNLo"
      },
      "source": [
        "#### 1.2. '+' and '*' operators for NumPy arrays:"
      ]
    },
    {
      "cell_type": "code",
      "execution_count": 9,
      "metadata": {
        "id": "t_Hutj8aeNL6"
      },
      "outputs": [],
      "source": [
        "a = np.array([1, 2, 3])\n",
        "b = np.array([4, 5, 6])"
      ]
    },
    {
      "cell_type": "code",
      "execution_count": 10,
      "metadata": {
        "id": "YiRwmK0NeNL8",
        "outputId": "879e4a5a-67f7-476d-c400-a3b22f7d8438"
      },
      "outputs": [
        {
          "data": {
            "text/plain": [
              "array([5, 7, 9])"
            ]
          },
          "execution_count": 10,
          "metadata": {},
          "output_type": "execute_result"
        }
      ],
      "source": [
        "a+b"
      ]
    },
    {
      "cell_type": "code",
      "execution_count": 11,
      "metadata": {
        "id": "aN93yxKheNL-",
        "outputId": "f00fc035-f261-4e3f-eb66-0870431ed61d"
      },
      "outputs": [
        {
          "data": {
            "text/plain": [
              "array([-3, -3, -3])"
            ]
          },
          "execution_count": 11,
          "metadata": {},
          "output_type": "execute_result"
        }
      ],
      "source": [
        "a-b"
      ]
    },
    {
      "cell_type": "code",
      "execution_count": 12,
      "metadata": {
        "id": "ufyJNpO3eNL_",
        "outputId": "0a3faa34-77d3-4010-a2e2-9c0b2f646951"
      },
      "outputs": [
        {
          "data": {
            "text/plain": [
              "array([ 4, 10, 18])"
            ]
          },
          "execution_count": 12,
          "metadata": {},
          "output_type": "execute_result"
        }
      ],
      "source": [
        "a*b"
      ]
    },
    {
      "cell_type": "code",
      "execution_count": 13,
      "metadata": {
        "id": "C-mA5iUneNL_",
        "outputId": "e5983ca2-6bcd-4639-e81c-338bc6922e34"
      },
      "outputs": [
        {
          "data": {
            "text/plain": [
              "array([0.25, 0.4 , 0.5 ])"
            ]
          },
          "execution_count": 13,
          "metadata": {},
          "output_type": "execute_result"
        }
      ],
      "source": [
        "1.0*a/b"
      ]
    },
    {
      "cell_type": "markdown",
      "metadata": {
        "id": "jRn1nbL7eNMB"
      },
      "source": [
        "#### 1.3. Universal functions:"
      ]
    },
    {
      "cell_type": "code",
      "execution_count": 14,
      "metadata": {
        "id": "0x8KJ5WPeNMC"
      },
      "outputs": [],
      "source": [
        "x = np.array([0, 1, 2, 3, 4, 5])"
      ]
    },
    {
      "cell_type": "code",
      "execution_count": 15,
      "metadata": {
        "id": "i_PROhPleNMC",
        "outputId": "d7ab0e16-f1ff-44ff-dcf9-c778ca398a4e"
      },
      "outputs": [
        {
          "data": {
            "text/plain": [
              "array([0.        , 1.        , 1.41421356, 1.73205081, 2.        ,\n",
              "       2.23606798])"
            ]
          },
          "execution_count": 15,
          "metadata": {},
          "output_type": "execute_result"
        }
      ],
      "source": [
        "np.sqrt(x)"
      ]
    },
    {
      "cell_type": "code",
      "execution_count": 16,
      "metadata": {
        "id": "RikoMJBWeNMC",
        "outputId": "2ba4d5e1-3fb5-4d82-ace3-7f213a9eb7bb"
      },
      "outputs": [
        {
          "data": {
            "text/plain": [
              "array([  1.        ,   2.71828183,   7.3890561 ,  20.08553692,\n",
              "        54.59815003, 148.4131591 ])"
            ]
          },
          "execution_count": 16,
          "metadata": {},
          "output_type": "execute_result"
        }
      ],
      "source": [
        "np.exp(x)"
      ]
    },
    {
      "cell_type": "code",
      "execution_count": 17,
      "metadata": {
        "id": "i8GEQ9JieNMD",
        "outputId": "ce2883cb-57a4-48e4-8125-d71809fa347b"
      },
      "outputs": [
        {
          "data": {
            "text/plain": [
              "numpy.ufunc"
            ]
          },
          "execution_count": 17,
          "metadata": {},
          "output_type": "execute_result"
        }
      ],
      "source": [
        "type(np.sqrt)"
      ]
    },
    {
      "cell_type": "code",
      "execution_count": 18,
      "metadata": {
        "id": "B3t6I263eNMD",
        "outputId": "9c50c290-2c39-4ecb-dcbe-200ad474d737"
      },
      "outputs": [
        {
          "data": {
            "text/plain": [
              "numpy.ufunc"
            ]
          },
          "execution_count": 18,
          "metadata": {},
          "output_type": "execute_result"
        }
      ],
      "source": [
        "type(np.exp)"
      ]
    },
    {
      "cell_type": "markdown",
      "metadata": {
        "id": "lU2dHdaDeNMD"
      },
      "source": [
        "#### 1.4. NumPy functions:"
      ]
    },
    {
      "cell_type": "code",
      "execution_count": 19,
      "metadata": {
        "id": "bu1gFp2BeNME"
      },
      "outputs": [],
      "source": [
        "np.random.seed(123)\n",
        "a = np.random.randint(1, 11, size=1000)"
      ]
    },
    {
      "cell_type": "code",
      "execution_count": 20,
      "metadata": {
        "id": "dBQDSs_JeNME",
        "outputId": "8e6c92e6-5793-43e0-bc83-8bf19915f984"
      },
      "outputs": [
        {
          "data": {
            "text/plain": [
              "array([ 1,  2,  3,  4,  5,  6,  7,  8,  9, 10])"
            ]
          },
          "execution_count": 20,
          "metadata": {},
          "output_type": "execute_result"
        }
      ],
      "source": [
        "np.unique(a)"
      ]
    },
    {
      "cell_type": "code",
      "execution_count": 21,
      "metadata": {
        "id": "q1dVJBZUeNME",
        "outputId": "8d757a4d-bb30-466e-c78c-ee67eefbeb1d"
      },
      "outputs": [
        {
          "data": {
            "text/plain": [
              "5.0"
            ]
          },
          "execution_count": 21,
          "metadata": {},
          "output_type": "execute_result"
        }
      ],
      "source": [
        "np.median(a)"
      ]
    },
    {
      "cell_type": "code",
      "execution_count": 22,
      "metadata": {
        "id": "NpmLuxkfeNMH",
        "outputId": "0349a26c-6d25-4ea3-ceaf-8989b0a91b13"
      },
      "outputs": [
        {
          "data": {
            "text/plain": [
              "5485"
            ]
          },
          "execution_count": 22,
          "metadata": {},
          "output_type": "execute_result"
        }
      ],
      "source": [
        "np.sum(a)"
      ]
    },
    {
      "cell_type": "code",
      "execution_count": 23,
      "metadata": {
        "id": "xuNgNOAyeNMP",
        "outputId": "752aceb8-72ef-4c5c-a7d7-ccec13fbd52f"
      },
      "outputs": [
        {
          "data": {
            "text/plain": [
              "8.19"
            ]
          },
          "execution_count": 23,
          "metadata": {},
          "output_type": "execute_result"
        }
      ],
      "source": [
        "np.round(np.var(a),2)"
      ]
    },
    {
      "cell_type": "code",
      "execution_count": 24,
      "metadata": {
        "id": "bgQQ1hhOeNMQ",
        "outputId": "3a7a0efd-d406-4ebf-cb02-6be32727a616"
      },
      "outputs": [
        {
          "data": {
            "text/plain": [
              "5.48"
            ]
          },
          "execution_count": 24,
          "metadata": {},
          "output_type": "execute_result"
        }
      ],
      "source": [
        "np.round(np.mean(a),2)"
      ]
    },
    {
      "cell_type": "code",
      "execution_count": 25,
      "metadata": {
        "id": "N2XDLplkeNMQ",
        "outputId": "d4b67d59-c143-4efe-8fb5-f6e1abe67104"
      },
      "outputs": [
        {
          "data": {
            "text/plain": [
              "2.86"
            ]
          },
          "execution_count": 25,
          "metadata": {},
          "output_type": "execute_result"
        }
      ],
      "source": [
        "np.round(np.std(a),2)"
      ]
    },
    {
      "cell_type": "code",
      "execution_count": 26,
      "metadata": {
        "id": "HgXCRN-7eNMR",
        "outputId": "9b5bceaf-336a-4b2a-9755-cb4d9cf6716c"
      },
      "outputs": [
        {
          "data": {
            "text/plain": [
              "10"
            ]
          },
          "execution_count": 26,
          "metadata": {},
          "output_type": "execute_result"
        }
      ],
      "source": [
        "np.max(a)"
      ]
    },
    {
      "cell_type": "code",
      "execution_count": 27,
      "metadata": {
        "id": "DHyaf6k7eNMR",
        "outputId": "8810ba80-a3c3-427c-9b25-14d83ebaa0f0"
      },
      "outputs": [
        {
          "data": {
            "text/plain": [
              "1"
            ]
          },
          "execution_count": 27,
          "metadata": {},
          "output_type": "execute_result"
        }
      ],
      "source": [
        "np.min(a)"
      ]
    },
    {
      "cell_type": "markdown",
      "metadata": {
        "id": "mbGfIhwPeNMS"
      },
      "source": [
        "#### 1.5. Statistical methods of NumPy arrays:"
      ]
    },
    {
      "cell_type": "code",
      "execution_count": 28,
      "metadata": {
        "id": "-4l-yh6ReNMT"
      },
      "outputs": [],
      "source": [
        "x=np.arange(1,11)"
      ]
    },
    {
      "cell_type": "code",
      "execution_count": 29,
      "metadata": {
        "id": "chAOP16CeNMU",
        "outputId": "314aae17-f062-45c4-bd54-6157edc2e618"
      },
      "outputs": [
        {
          "data": {
            "text/plain": [
              "55"
            ]
          },
          "execution_count": 29,
          "metadata": {},
          "output_type": "execute_result"
        }
      ],
      "source": [
        "x.sum()"
      ]
    },
    {
      "cell_type": "code",
      "execution_count": 30,
      "metadata": {
        "id": "r-aUu8eSeNMU",
        "outputId": "dae041a5-9860-4d84-80ec-333dce6a957f"
      },
      "outputs": [
        {
          "data": {
            "text/plain": [
              "5.5"
            ]
          },
          "execution_count": 30,
          "metadata": {},
          "output_type": "execute_result"
        }
      ],
      "source": [
        "x.mean()"
      ]
    },
    {
      "cell_type": "code",
      "execution_count": 31,
      "metadata": {
        "id": "6WFPH5hueNMV",
        "outputId": "232a81c1-6629-4927-9d92-d7469641091c"
      },
      "outputs": [
        {
          "data": {
            "text/plain": [
              "2.8722813232690143"
            ]
          },
          "execution_count": 31,
          "metadata": {},
          "output_type": "execute_result"
        }
      ],
      "source": [
        "x.std()"
      ]
    },
    {
      "cell_type": "code",
      "execution_count": 32,
      "metadata": {
        "id": "8mvfm6G7eNMW",
        "outputId": "29cb9d1c-7b91-49ef-aadb-1aea8957bcfe"
      },
      "outputs": [
        {
          "data": {
            "text/plain": [
              "8.25"
            ]
          },
          "execution_count": 32,
          "metadata": {},
          "output_type": "execute_result"
        }
      ],
      "source": [
        "x.var()"
      ]
    },
    {
      "cell_type": "code",
      "execution_count": 33,
      "metadata": {
        "id": "pNaWBK9SeNMh",
        "outputId": "5b8660b3-1c3b-45e5-d05b-4584544ece0c"
      },
      "outputs": [
        {
          "data": {
            "text/plain": [
              "array([ 1,  3,  6, 10, 15, 21, 28, 36, 45, 55])"
            ]
          },
          "execution_count": 33,
          "metadata": {},
          "output_type": "execute_result"
        }
      ],
      "source": [
        "x.cumsum()"
      ]
    },
    {
      "cell_type": "code",
      "execution_count": 34,
      "metadata": {
        "id": "OuGoWUUyeNMh",
        "outputId": "832aaab2-63ca-4617-9e03-eaa540940228"
      },
      "outputs": [
        {
          "name": "stdout",
          "output_type": "stream",
          "text": [
            "[[1 2 3]\n",
            " [4 5 6]\n",
            " [7 8 9]]\n"
          ]
        }
      ],
      "source": [
        "y = np.arange(1,10)\n",
        "y = y.reshape((3,-1))\n",
        "print(y)"
      ]
    },
    {
      "cell_type": "code",
      "execution_count": 58,
      "metadata": {},
      "outputs": [
        {
          "data": {
            "text/plain": [
              "array([[ 1,  3,  5,  7,  9],\n",
              "       [11, 13, 15, 17, 19],\n",
              "       [21, 23, 25, 27, 29],\n",
              "       [31, 33, 35, 37, 39],\n",
              "       [41, 43, 45, 47, 49]])"
            ]
          },
          "execution_count": 58,
          "metadata": {},
          "output_type": "execute_result"
        }
      ],
      "source": [
        "r= np.arange(1,50,2)\n",
        "r.reshape((-1,5))"
      ]
    },
    {
      "cell_type": "code",
      "execution_count": 62,
      "metadata": {},
      "outputs": [
        {
          "data": {
            "text/plain": [
              "array([[ 1,  3,  5,  7,  9],\n",
              "       [11, 13, 15, 17, 19],\n",
              "       [21, 23, 25, 27, 29],\n",
              "       [31, 33, 35, 37, 39],\n",
              "       [41, 43, 45, 47, 49]])"
            ]
          },
          "execution_count": 62,
          "metadata": {},
          "output_type": "execute_result"
        }
      ],
      "source": [
        "e = r.reshape((5,-1))\n",
        "e"
      ]
    },
    {
      "cell_type": "code",
      "execution_count": 71,
      "metadata": {},
      "outputs": [
        {
          "data": {
            "text/plain": [
              "array([[ 3,  7, 10, 15, 10],\n",
              "       [13, 17, 20, 25, 20],\n",
              "       [23, 27, 30, 35, 30],\n",
              "       [33, 37, 40, 45, 40],\n",
              "       [43, 47, 50, 55, 50]])"
            ]
          },
          "execution_count": 71,
          "metadata": {},
          "output_type": "execute_result"
        }
      ],
      "source": [
        "c = np.array([[2,4,5,8,1]])\n",
        "c+e"
      ]
    },
    {
      "cell_type": "code",
      "execution_count": 72,
      "metadata": {},
      "outputs": [
        {
          "data": {
            "text/plain": [
              "array([[2, 4, 5, 8, 1],\n",
              "       [2, 4, 5, 8, 1],\n",
              "       [2, 4, 5, 8, 1],\n",
              "       [2, 4, 5, 8, 1]])"
            ]
          },
          "execution_count": 72,
          "metadata": {},
          "output_type": "execute_result"
        }
      ],
      "source": [
        "z = np.array([[2,4,5,8,1],[2,4,5,8,1],[2,4,5,8,1],[2,4,5,8,1]])\n",
        "z"
      ]
    },
    {
      "cell_type": "code",
      "execution_count": 73,
      "metadata": {},
      "outputs": [
        {
          "name": "stdout",
          "output_type": "stream",
          "text": [
            "[2. 4. 5. 8. 1.]\n"
          ]
        }
      ],
      "source": [
        "print(z.mean(axis=0))"
      ]
    },
    {
      "cell_type": "code",
      "execution_count": 64,
      "metadata": {},
      "outputs": [
        {
          "name": "stdout",
          "output_type": "stream",
          "text": [
            "[21. 23. 25. 27. 29.]\n"
          ]
        }
      ],
      "source": [
        "print(e.mean(axis=0))"
      ]
    },
    {
      "cell_type": "code",
      "execution_count": 35,
      "metadata": {
        "id": "o1iXuxH9eNMi",
        "outputId": "23751e73-c2d5-4f8e-90bf-532589509286"
      },
      "outputs": [
        {
          "name": "stdout",
          "output_type": "stream",
          "text": [
            "[4. 5. 6.]\n"
          ]
        }
      ],
      "source": [
        "print(y.mean(axis=0))"
      ]
    },
    {
      "cell_type": "code",
      "execution_count": 36,
      "metadata": {
        "id": "-uf4zLk4eNMi",
        "outputId": "69dfebf0-863c-42ce-f85c-5cf6fe474c88"
      },
      "outputs": [
        {
          "name": "stdout",
          "output_type": "stream",
          "text": [
            "[2. 5. 8.]\n"
          ]
        }
      ],
      "source": [
        "print(y.mean(axis=1))"
      ]
    },
    {
      "cell_type": "code",
      "execution_count": 37,
      "metadata": {
        "id": "JTwyyXMWeNMj"
      },
      "outputs": [],
      "source": [
        "z = np.random.randint(10,size=1000)"
      ]
    },
    {
      "cell_type": "code",
      "execution_count": 38,
      "metadata": {
        "id": "SKutThObeNMj",
        "outputId": "a77e9886-43ee-4144-913b-910de77d84f0"
      },
      "outputs": [
        {
          "data": {
            "text/plain": [
              "9"
            ]
          },
          "execution_count": 38,
          "metadata": {},
          "output_type": "execute_result"
        }
      ],
      "source": [
        "z.max()"
      ]
    },
    {
      "cell_type": "code",
      "execution_count": 39,
      "metadata": {
        "id": "wrE1Ec9beNMj",
        "outputId": "a68f978c-af9c-421b-c76b-435a1be218e6"
      },
      "outputs": [
        {
          "data": {
            "text/plain": [
              "0"
            ]
          },
          "execution_count": 39,
          "metadata": {},
          "output_type": "execute_result"
        }
      ],
      "source": [
        "z.min()"
      ]
    },
    {
      "cell_type": "code",
      "execution_count": 40,
      "metadata": {
        "id": "1dHVwSoQeNMj",
        "outputId": "c576bde2-6ae8-41f2-811f-2d4ce7af4145"
      },
      "outputs": [
        {
          "data": {
            "text/plain": [
              "392"
            ]
          },
          "execution_count": 40,
          "metadata": {},
          "output_type": "execute_result"
        }
      ],
      "source": [
        "(z > 5).sum()"
      ]
    },
    {
      "cell_type": "code",
      "execution_count": 41,
      "metadata": {
        "id": "QmCt8L8NeNMk",
        "outputId": "abe825af-3948-49eb-feb4-3754cb40c486"
      },
      "outputs": [
        {
          "data": {
            "text/plain": [
              "array([0, 1, 2, 3, 4, 5, 6, 7, 8, 9])"
            ]
          },
          "execution_count": 41,
          "metadata": {},
          "output_type": "execute_result"
        }
      ],
      "source": [
        "np.unique(z)"
      ]
    },
    {
      "cell_type": "code",
      "execution_count": 42,
      "metadata": {
        "id": "Gsvq48cQeNMk",
        "outputId": "0794525a-4e3b-4c12-e960-8a90cb28c932"
      },
      "outputs": [
        {
          "data": {
            "text/plain": [
              "[0, 1, 2, 3, 4, 5, 6, 7, 8, 9]"
            ]
          },
          "execution_count": 42,
          "metadata": {},
          "output_type": "execute_result"
        }
      ],
      "source": [
        "sorted(set(z))"
      ]
    },
    {
      "cell_type": "code",
      "execution_count": 75,
      "metadata": {
        "id": "KkXIks1TeNMk"
      },
      "outputs": [],
      "source": [
        "a = np.array([2,-3,4,5,7,0,1,-1,-34,23])"
      ]
    },
    {
      "cell_type": "code",
      "execution_count": 76,
      "metadata": {
        "id": "gk1yUArQeNMl",
        "outputId": "b98ab9f7-f569-41c6-ead2-47f1f45fcce9"
      },
      "outputs": [
        {
          "data": {
            "text/plain": [
              "9"
            ]
          },
          "execution_count": 76,
          "metadata": {},
          "output_type": "execute_result"
        }
      ],
      "source": [
        "a.argmax()"
      ]
    },
    {
      "cell_type": "code",
      "execution_count": 77,
      "metadata": {
        "id": "QKP12e7NeNMl",
        "outputId": "51a1fb6e-0cec-4ad7-dc38-cb571e745ed9"
      },
      "outputs": [
        {
          "data": {
            "text/plain": [
              "8"
            ]
          },
          "execution_count": 77,
          "metadata": {},
          "output_type": "execute_result"
        }
      ],
      "source": [
        "a.argmin()"
      ]
    },
    {
      "cell_type": "code",
      "execution_count": null,
      "metadata": {
        "id": "Q1y-TmmSeNMl"
      },
      "outputs": [],
      "source": []
    }
  ],
  "metadata": {
    "colab": {
      "provenance": []
    },
    "kernelspec": {
      "display_name": "eda_env",
      "language": "python",
      "name": "python3"
    },
    "language_info": {
      "codemirror_mode": {
        "name": "ipython",
        "version": 3
      },
      "file_extension": ".py",
      "mimetype": "text/x-python",
      "name": "python",
      "nbconvert_exporter": "python",
      "pygments_lexer": "ipython3",
      "version": "3.9.18"
    }
  },
  "nbformat": 4,
  "nbformat_minor": 0
}
