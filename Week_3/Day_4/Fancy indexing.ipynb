{
  "cells": [
    {
      "cell_type": "markdown",
      "metadata": {
        "id": "v5WzkOsx1lp1"
      },
      "source": [
        "Added to the existing codes"
      ]
    },
    {
      "cell_type": "code",
      "execution_count": null,
      "metadata": {
        "id": "DiTwDnzX1lqG"
      },
      "outputs": [],
      "source": [
        "import numpy as np"
      ]
    },
    {
      "cell_type": "code",
      "execution_count": null,
      "metadata": {
        "id": "fgEWqnja1lqM"
      },
      "outputs": [],
      "source": [
        "a = np.array([1, 2, 3, 4, 5])\t\t# A one dimensional NumPy array."
      ]
    },
    {
      "cell_type": "code",
      "execution_count": null,
      "metadata": {
        "id": "6xpXoV2L1lqP",
        "outputId": "8c5c6f36-54fa-472e-d990-6d4888a3f0a5"
      },
      "outputs": [
        {
          "data": {
            "text/plain": [
              "array([1, 2])"
            ]
          },
          "execution_count": 3,
          "metadata": {},
          "output_type": "execute_result"
        }
      ],
      "source": [
        "a[:2]\t\t\t\t\t\t\t# From the index 0 up to the index 1 (excluding 2)."
      ]
    },
    {
      "cell_type": "code",
      "execution_count": null,
      "metadata": {
        "id": "J9iaLm_l1lqW",
        "outputId": "63a57a58-2128-4d24-ca11-a51b699ae56e"
      },
      "outputs": [
        {
          "data": {
            "text/plain": [
              "5"
            ]
          },
          "execution_count": 4,
          "metadata": {},
          "output_type": "execute_result"
        }
      ],
      "source": [
        "a[-1]"
      ]
    },
    {
      "cell_type": "code",
      "execution_count": null,
      "metadata": {
        "id": "n2vjM_df1lqY",
        "outputId": "f4a0372f-ed1e-405a-cacb-2efb2b87aecb"
      },
      "outputs": [
        {
          "data": {
            "text/plain": [
              "array([1, 2, 3, 4, 5])"
            ]
          },
          "execution_count": 5,
          "metadata": {},
          "output_type": "execute_result"
        }
      ],
      "source": [
        "a[:]"
      ]
    },
    {
      "cell_type": "code",
      "execution_count": null,
      "metadata": {
        "id": "oOi571aj1lqa"
      },
      "outputs": [],
      "source": [
        "a = np.array([[1, 2, 3], [4, 5, 6], [7, 8, 9]])\t# This is a 3 x 3 two dimensional array (matrix)."
      ]
    },
    {
      "cell_type": "code",
      "execution_count": null,
      "metadata": {
        "id": "PPnNLgTN1lqd",
        "outputId": "61dbd3c0-fb18-451e-8a8c-50432fa2ae9a"
      },
      "outputs": [
        {
          "data": {
            "text/plain": [
              "array([4, 5, 6])"
            ]
          },
          "execution_count": 7,
          "metadata": {},
          "output_type": "execute_result"
        }
      ],
      "source": [
        "a[1]\t\t\t\t# The row 1."
      ]
    },
    {
      "cell_type": "code",
      "execution_count": null,
      "metadata": {
        "id": "AV1nAFDW1lqg",
        "outputId": "9c0a3787-6426-4368-e13e-ed866ece3f0d"
      },
      "outputs": [
        {
          "data": {
            "text/plain": [
              "array([7, 8, 9])"
            ]
          },
          "execution_count": 8,
          "metadata": {},
          "output_type": "execute_result"
        }
      ],
      "source": [
        "a[-1]\t\t\t\t# The last row."
      ]
    },
    {
      "cell_type": "code",
      "execution_count": null,
      "metadata": {
        "id": "rrSsLDvK1lqn",
        "outputId": "ff5739c3-d08d-44a5-df43-3cb0e0c2c676"
      },
      "outputs": [
        {
          "data": {
            "text/plain": [
              "array([[1, 2, 3],\n",
              "       [4, 5, 6],\n",
              "       [7, 8, 9]])"
            ]
          },
          "execution_count": 9,
          "metadata": {},
          "output_type": "execute_result"
        }
      ],
      "source": [
        "a[:]\t\t\t\t# The whole array (matrix)."
      ]
    },
    {
      "cell_type": "code",
      "execution_count": null,
      "metadata": {
        "id": "XWJwWEKl1lqp",
        "outputId": "48993750-e2a8-4737-d66c-405d72fd5d50"
      },
      "outputs": [
        {
          "data": {
            "text/plain": [
              "array([[1, 2, 3],\n",
              "       [4, 5, 6]])"
            ]
          },
          "execution_count": 10,
          "metadata": {},
          "output_type": "execute_result"
        }
      ],
      "source": [
        "a[:2]\t\t\t\t# From the row 0 to the row 1 (excluding the row 2)."
      ]
    },
    {
      "cell_type": "code",
      "execution_count": null,
      "metadata": {
        "id": "5IYAZouD1lqr",
        "outputId": "61be66b9-5879-4045-b86d-c022f23f7423"
      },
      "outputs": [
        {
          "data": {
            "text/plain": [
              "8"
            ]
          },
          "execution_count": 11,
          "metadata": {},
          "output_type": "execute_result"
        }
      ],
      "source": [
        "a[2][1]\t\t\t# The element from the row 2 and the column 1."
      ]
    },
    {
      "cell_type": "code",
      "execution_count": null,
      "metadata": {
        "id": "h_ScMhYH1lqs",
        "outputId": "775309c5-163d-4df5-b9eb-3bc7569a09b2"
      },
      "outputs": [
        {
          "data": {
            "text/plain": [
              "8"
            ]
          },
          "execution_count": 12,
          "metadata": {},
          "output_type": "execute_result"
        }
      ],
      "source": [
        "a[2, 1]\t\t\t# The same as above."
      ]
    },
    {
      "cell_type": "code",
      "execution_count": null,
      "metadata": {
        "id": "CI6U6WqT1lqu",
        "outputId": "ee2b7692-6a5f-4e0c-c6b3-f3fa49f36803"
      },
      "outputs": [
        {
          "data": {
            "text/plain": [
              "array([[1, 2, 3],\n",
              "       [7, 8, 9]])"
            ]
          },
          "execution_count": 13,
          "metadata": {},
          "output_type": "execute_result"
        }
      ],
      "source": [
        "a[[0, 2]]\t\t\t# The rows 0 and 2."
      ]
    },
    {
      "cell_type": "code",
      "execution_count": null,
      "metadata": {
        "id": "Sbfo_PJQ1lqv",
        "outputId": "810f2dc7-44e0-409d-eb53-27cd4503c67f"
      },
      "outputs": [
        {
          "data": {
            "text/plain": [
              "array([[5, 6],\n",
              "       [8, 9]])"
            ]
          },
          "execution_count": 14,
          "metadata": {},
          "output_type": "execute_result"
        }
      ],
      "source": [
        "a[1:, 1:]\t\t\t# From the row 1 to the end. From the column 1 to the end."
      ]
    },
    {
      "cell_type": "markdown",
      "metadata": {
        "id": "h3P5QaFU1lqw"
      },
      "source": [
        "Fancy indexing"
      ]
    },
    {
      "cell_type": "code",
      "execution_count": null,
      "metadata": {
        "id": "mSgna5KP1lqy"
      },
      "outputs": [],
      "source": [
        "arr = np.arange(100)\t\t# A sequence from 0 to 99."
      ]
    },
    {
      "cell_type": "code",
      "execution_count": null,
      "metadata": {
        "id": "wcAFH1Gk1lqy"
      },
      "outputs": [],
      "source": [
        "arrMask = ((arr % 5) == 0) \t\t# A Boolean array. True if multiple of 5, else False."
      ]
    },
    {
      "cell_type": "code",
      "execution_count": null,
      "metadata": {
        "id": "U0f9YIHb1lqz",
        "outputId": "f6d88e7b-75a8-4a84-df9a-bc0f47f4917d"
      },
      "outputs": [
        {
          "data": {
            "text/plain": [
              "array([ 0,  5, 10, 15, 20, 25, 30, 35, 40, 45, 50, 55, 60, 65, 70, 75, 80,\n",
              "       85, 90, 95])"
            ]
          },
          "execution_count": 17,
          "metadata": {},
          "output_type": "execute_result"
        }
      ],
      "source": [
        "arr[arrMask]\t\t\t# Apply fancy indexing."
      ]
    },
    {
      "cell_type": "code",
      "execution_count": null,
      "metadata": {
        "id": "kNrdVf9O1lq0"
      },
      "outputs": [],
      "source": [
        "arrMask = ( ( (arr % 5) == 0 )  & ( arr >0) )\t# A Boolean array. True if multiple of 5 or 0, else False."
      ]
    },
    {
      "cell_type": "code",
      "execution_count": null,
      "metadata": {
        "id": "xKAcrD-O1lq1",
        "outputId": "2145756e-1ef2-4547-e3ac-a727b9aee339"
      },
      "outputs": [
        {
          "data": {
            "text/plain": [
              "array([ 5, 10, 15, 20, 25, 30, 35, 40, 45, 50, 55, 60, 65, 70, 75, 80, 85,\n",
              "       90, 95])"
            ]
          },
          "execution_count": 19,
          "metadata": {},
          "output_type": "execute_result"
        }
      ],
      "source": [
        "arr[arrMask]\t\t\t# Apply fancy indexing."
      ]
    },
    {
      "cell_type": "markdown",
      "metadata": {
        "id": "4dcn_QA41lq2"
      },
      "source": [
        "Boolean Indexing"
      ]
    },
    {
      "cell_type": "code",
      "execution_count": null,
      "metadata": {
        "id": "UctOk3Nm1lq3"
      },
      "outputs": [],
      "source": [
        "test_a = np.array([1,4,0,2,3,8,9,7])"
      ]
    },
    {
      "cell_type": "code",
      "execution_count": null,
      "metadata": {
        "id": "fU4XPNb31lq3",
        "outputId": "9f3ba0ed-bec4-4b62-8ad5-7502bd66e913"
      },
      "outputs": [
        {
          "data": {
            "text/plain": [
              "array([1, 4, 0, 2, 3, 8, 9, 7])"
            ]
          },
          "execution_count": 21,
          "metadata": {},
          "output_type": "execute_result"
        }
      ],
      "source": [
        "test_a"
      ]
    },
    {
      "cell_type": "code",
      "execution_count": null,
      "metadata": {
        "id": "-c-OjHSs1lq4"
      },
      "outputs": [],
      "source": [
        "#The boolean value for whether the value is greater or less than 3 among each element in test_a."
      ]
    },
    {
      "cell_type": "code",
      "execution_count": null,
      "metadata": {
        "id": "EzukkNZz1lq5",
        "outputId": "1b6d9183-63e8-491a-e337-21ee9ce7f378"
      },
      "outputs": [
        {
          "data": {
            "text/plain": [
              "array([False,  True, False, False, False,  True,  True,  True])"
            ]
          },
          "execution_count": 23,
          "metadata": {},
          "output_type": "execute_result"
        }
      ],
      "source": [
        "test_a > 3"
      ]
    },
    {
      "cell_type": "code",
      "execution_count": null,
      "metadata": {
        "id": "BBY8dYnQ1lq6",
        "outputId": "9442ad70-c09e-4078-fd0a-02f687cbfff0"
      },
      "outputs": [
        {
          "data": {
            "text/plain": [
              "array([4, 8, 9, 7])"
            ]
          },
          "execution_count": 24,
          "metadata": {},
          "output_type": "execute_result"
        }
      ],
      "source": [
        "test_a[test_a>3]"
      ]
    }
  ],
  "metadata": {
    "kernelspec": {
      "display_name": "Python 3 (ipykernel)",
      "language": "python",
      "name": "python3"
    },
    "language_info": {
      "codemirror_mode": {
        "name": "ipython",
        "version": 3
      },
      "file_extension": ".py",
      "mimetype": "text/x-python",
      "name": "python",
      "nbconvert_exporter": "python",
      "pygments_lexer": "ipython3",
      "version": "3.10.11"
    },
    "colab": {
      "provenance": []
    }
  },
  "nbformat": 4,
  "nbformat_minor": 0
}