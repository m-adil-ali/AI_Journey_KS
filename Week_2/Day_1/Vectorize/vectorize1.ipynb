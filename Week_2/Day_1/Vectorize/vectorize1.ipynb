{
  "cells": [
    {
      "cell_type": "code",
      "execution_count": 6,
      "metadata": {
        "id": "Xmvnfhl8NBZy"
      },
      "outputs": [],
      "source": [
        "import numpy as np\n",
        "import time"
      ]
    },
    {
      "cell_type": "code",
      "execution_count": 7,
      "metadata": {
        "id": "BcwMyYmpMAjV"
      },
      "outputs": [],
      "source": [
        "def forloop(x,w):\n",
        "  z=0\n",
        "  for i in range(len(x)):\n",
        "    z+= x[i]*w[i]\n",
        "  return z\n"
      ]
    },
    {
      "cell_type": "code",
      "execution_count": 8,
      "metadata": {
        "id": "HS1RVJsZMV84"
      },
      "outputs": [],
      "source": [
        "def listcomprehension(x,w):\n",
        "  return sum([x_i*w_i for x_i,w_i in zip(x,w)])\n"
      ]
    },
    {
      "cell_type": "code",
      "execution_count": 9,
      "metadata": {
        "id": "uv1mL7J_Mn1r"
      },
      "outputs": [],
      "source": [
        "def vectorized(x,w):\n",
        "  return x.dot(w)"
      ]
    },
    {
      "cell_type": "code",
      "execution_count": 16,
      "metadata": {
        "colab": {
          "base_uri": "https://localhost:8080/"
        },
        "id": "c-BwqYMeM-aX",
        "outputId": "e6ebfabb-d5f1-45f2-b07d-086c3ee39c90"
      },
      "outputs": [
        {
          "name": "stdout",
          "output_type": "stream",
          "text": [
            "forloop execution time:  0.11403918266296387\n",
            "list comprehension execution time:  0.05899190902709961\n",
            "vector execution time:  0.0\n"
          ]
        }
      ],
      "source": [
        "x,w = np.random.random(100000),np.random.random(100000)\n",
        "\n",
        "# forloop time\n",
        "start_time = time.time()\n",
        "forloop(x,w)\n",
        "end_time = time.time()\n",
        "print(\"forloop execution time: \",end_time-start_time)\n",
        "\n",
        "#listcomprehension time\n",
        "start_time = time.time()\n",
        "listcomprehension(x,w)\n",
        "end_time = time.time()\n",
        "print(\"list comprehension execution time: \",end_time-start_time)\n",
        "\n",
        "#vectorized time\n",
        "start_time = time.time()\n",
        "vectorized(x,w)\n",
        "end_time = time.time()\n",
        "print(\"vector execution time: \",end_time-start_time)\n"
      ]
    }
  ],
  "metadata": {
    "colab": {
      "provenance": []
    },
    "kernelspec": {
      "display_name": "eda_env",
      "language": "python",
      "name": "python3"
    },
    "language_info": {
      "codemirror_mode": {
        "name": "ipython",
        "version": 3
      },
      "file_extension": ".py",
      "mimetype": "text/x-python",
      "name": "python",
      "nbconvert_exporter": "python",
      "pygments_lexer": "ipython3",
      "version": "3.9.18"
    }
  },
  "nbformat": 4,
  "nbformat_minor": 0
}
