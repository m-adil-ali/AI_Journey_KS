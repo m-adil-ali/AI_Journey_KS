{
 "cells": [
  {
   "cell_type": "markdown",
   "metadata": {},
   "source": [
    "<a name='exercises_what'></a>Exercises\n",
    "---\n",
    "\n",
    "#### Rocket With No Class\n",
    "- Using just what you already know, try to write a program that simulates the [above example](#what) about rockets.\n",
    "    - Store an x and y value for a rocket.\n",
    "    - Store an x and y value for each rocket in a set of 5 rockets. Store these 5 rockets in a list.\n",
    "- Don't take this exercise too far; it's really just a quick exercise to help you understand how useful the class structure is, especially as you start to see more capability added to the Rocket class."
   ]
  },
  {
   "cell_type": "code",
   "execution_count": 5,
   "metadata": {},
   "outputs": [
    {
     "name": "stdout",
     "output_type": "stream",
     "text": [
      "Rocket 5: (2, 2)\n",
      "Rocket 5: (2, 2)\n",
      "Rocket 5: (2, 2)\n",
      "Rocket 5: (2, 2)\n",
      "Rocket 5: (2, 2)\n"
     ]
    }
   ],
   "source": [
    "class Rocket():\n",
    "    \n",
    "    def __init__(self):\n",
    "        self.x = 0\n",
    "        self.y = 0\n",
    "    \n",
    "    def move_up(self):\n",
    "            self.y += 1\n",
    "        \n",
    "    def move_right(self):\n",
    "        self.x += 1\n",
    "    \n",
    "    def move_left(self):\n",
    "        self.x += 1\n",
    "        \n",
    "    def move_down(self):\n",
    "        self.y += 1\n",
    "    \n",
    "rockets = []        \n",
    "for i in range(5):\n",
    "    rocket = Rocket()\n",
    "    rockets.append(rocket)\n",
    "\n",
    "for rocket in rockets:\n",
    "    rocket.move_up()\n",
    "    rocket.move_right()\n",
    "    rocket.move_down()\n",
    "    rocket.move_left()\n",
    "    print(f'Rocket {i+1}: ({rocket.x}, {rocket.y})')\n",
    "\n",
    "\n",
    "# for rock in rockets:\n",
    "#     print(rock)"
   ]
  },
  {
   "cell_type": "markdown",
   "metadata": {},
   "source": [
    "# Distance"
   ]
  },
  {
   "cell_type": "code",
   "execution_count": 11,
   "metadata": {},
   "outputs": [
    {
     "name": "stdout",
     "output_type": "stream",
     "text": [
      "11.180339887498949\n",
      "The rockets are 11.180340 units apart.\n",
      "8.06225774829855\n",
      "After moving the rockets are 8.062258 units apart.\n"
     ]
    }
   ],
   "source": [
    "from math import sqrt\n",
    "\n",
    "class Rocket():\n",
    "    # Rocket simulates a rocket ship for a game,\n",
    "    #  or a physics simulation.\n",
    "    \n",
    "    def __init__(self, x=0, y=0):\n",
    "        # Each rocket has an (x,y) position.\n",
    "        self.x = x\n",
    "        self.y = y\n",
    "        \n",
    "    def move_rocket(self, x_increment=0, y_increment=1):\n",
    "        # Move the rocket according to the paremeters given.\n",
    "        #  Default behavior is to move the rocket up one unit.\n",
    "        self.x += x_increment\n",
    "        self.y += y_increment\n",
    "        \n",
    "    def get_distance(self, other_rocket):\n",
    "        # Calculates the distance from this rocket to another rocket,\n",
    "        #  and returns that value.\n",
    "        distance = sqrt((self.x-other_rocket.x)**2+(self.y-other_rocket.y)**2)\n",
    "        print(distance)\n",
    "        return distance\n",
    "    \n",
    "# Make two rockets, at different places.\n",
    "rocket_0 = Rocket()\n",
    "rocket_1 = Rocket(10,5)\n",
    "\n",
    "# Show the distance between them.\n",
    "distance = rocket_0.get_distance(rocket_1)\n",
    "print(\"The rockets are %f units apart.\" % distance)\n",
    "\n",
    "rocket_0.move_rocket(3,6)\n",
    "rocket_1.move_rocket(1,0)\n",
    "\n",
    "\n",
    "distance = rocket_0.get_distance(rocket_1)\n",
    "print(\"After moving the rockets are %f units apart.\" % distance)\n"
   ]
  },
  {
   "cell_type": "markdown",
   "metadata": {},
   "source": []
  },
  {
   "cell_type": "code",
   "execution_count": 12,
   "metadata": {},
   "outputs": [
    {
     "name": "stdout",
     "output_type": "stream",
     "text": [
      "MRO:  [<class '__main__.C'>, <class '__main__.A'>, <class '__main__.B'>, <class '__main__.GreatB'>, <class 'object'>]\n",
      "c.a:  A\n",
      "c.b:  B\n",
      "Greetings from Type:  <class '__main__.C'>\n",
      "Greetings from Type:  <class '__main__.C'>\n",
      "Greetings from Type:  <class '__main__.C'>\n"
     ]
    }
   ],
   "source": [
    "class A:\n",
    "    def __init__(self, a):\n",
    "        self.a = a\n",
    "        \n",
    "\n",
    "class GreatB:\n",
    "    \n",
    "    def greetings(self):\n",
    "        print('Greetings from Type: ', self.__class__)\n",
    "        \n",
    "class B(GreatB):\n",
    "    def __init__(self, b):\n",
    "        self.b = b\n",
    "        \n",
    "        \n",
    "class C(A,B):\n",
    "    def __init__(self, a, b):\n",
    "        A.__init__(self, a)\n",
    "        B.__init__(self, b)\n",
    "        \n",
    "print('MRO: ', C.mro())        \n",
    "c = C('A', 'B')\n",
    "print('c.a: ', c.a)\n",
    "print('c.b: ', c.b)\n",
    "\n",
    "c.greetings()\n",
    "super(C, c).greetings()\n",
    "super(B, c).greetings()\n",
    "\n"
   ]
  },
  {
   "cell_type": "code",
   "execution_count": null,
   "metadata": {},
   "outputs": [],
   "source": []
  }
 ],
 "metadata": {
  "kernelspec": {
   "display_name": "eda_env",
   "language": "python",
   "name": "python3"
  },
  "language_info": {
   "codemirror_mode": {
    "name": "ipython",
    "version": 3
   },
   "file_extension": ".py",
   "mimetype": "text/x-python",
   "name": "python",
   "nbconvert_exporter": "python",
   "pygments_lexer": "ipython3",
   "version": "3.9.18"
  }
 },
 "nbformat": 4,
 "nbformat_minor": 2
}
