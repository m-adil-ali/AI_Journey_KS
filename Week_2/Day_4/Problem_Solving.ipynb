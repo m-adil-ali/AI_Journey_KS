{
  "cells": [
    {
      "cell_type": "markdown",
      "metadata": {
        "id": "X0leDVfeKzhM"
      },
      "source": [
        "# Problem Solving:"
      ]
    },
    {
      "cell_type": "markdown",
      "metadata": {
        "id": "Ap-jQLAwMH_2"
      },
      "source": [
        "emails = ['foo@a.com','bar@a.com','baz@b.com', 'quz@d.com'] \\\n",
        "domains = ['www.a.com', 'www.b.com', 'www.c.com']\n",
        "\n",
        "### Final Output:\n",
        "Output: {'www.a.com': 2, 'www.b.com': 1, 'www.c.com': 0}"
      ]
    },
    {
      "cell_type": "code",
      "execution_count": 3,
      "metadata": {
        "id": "e8e5x0dbKyIW"
      },
      "outputs": [],
      "source": [
        "emails = ['foo@a.com','bar@a.com','baz@b.com', 'quz@d.com']\n",
        "domains = ['www.a.com', 'www.b.com', 'www.c.com']\n"
      ]
    },
    {
      "cell_type": "code",
      "execution_count": 12,
      "metadata": {
        "colab": {
          "base_uri": "https://localhost:8080/",
          "height": 35
        },
        "id": "bzdnUDlEOg0W",
        "outputId": "d5421a74-689c-4a16-e9a3-f65889d8e6f3"
      },
      "outputs": [
        {
          "data": {
            "application/vnd.google.colaboratory.intrinsic+json": {
              "type": "string"
            },
            "text/plain": [
              "'a.com'"
            ]
          },
          "execution_count": 12,
          "metadata": {},
          "output_type": "execute_result"
        }
      ],
      "source": [
        "domains[0].split('.')[1] + '.' + domains[0].split('.')[2]"
      ]
    },
    {
      "cell_type": "code",
      "execution_count": 14,
      "metadata": {
        "colab": {
          "base_uri": "https://localhost:8080/",
          "height": 35
        },
        "id": "Oie3PDlgO6rB",
        "outputId": "ef2a290a-c913-457a-8c9a-c4caeb244cc8"
      },
      "outputs": [
        {
          "data": {
            "application/vnd.google.colaboratory.intrinsic+json": {
              "type": "string"
            },
            "text/plain": [
              "'a.com'"
            ]
          },
          "execution_count": 14,
          "metadata": {},
          "output_type": "execute_result"
        }
      ],
      "source": [
        "emails[0].split('@')[1]"
      ]
    },
    {
      "cell_type": "code",
      "execution_count": 17,
      "metadata": {
        "colab": {
          "base_uri": "https://localhost:8080/"
        },
        "id": "3zEioocBLhm4",
        "outputId": "8c695844-4bc6-49ab-b48d-558100439a46"
      },
      "outputs": [
        {
          "data": {
            "text/plain": [
              "{'www.a.com': 2, 'www.b.com': 1, 'www.c.com': 0}"
            ]
          },
          "execution_count": 17,
          "metadata": {},
          "output_type": "execute_result"
        }
      ],
      "source": [
        "def countEmails(emails, domains):\n",
        "  res = {}\n",
        "  for domain in domains:\n",
        "    c = 0\n",
        "    domain_end = domain.split('.')[1] + '.' + domain.split('.')[2]\n",
        "    for email in emails:\n",
        "      email_end = email.split('@')[1]\n",
        "      if domain_end == email_end:\n",
        "        c += 1\n",
        "    res[domain] = c\n",
        "\n",
        "  return res\n",
        "countEmails(emails,domains)\n",
        "# p = countEmails(emails,domains)\n",
        "# p\n",
        "\n"
      ]
    },
    {
      "cell_type": "code",
      "execution_count": null,
      "metadata": {
        "id": "_bvd4N9iMxbX"
      },
      "outputs": [],
      "source": []
    }
  ],
  "metadata": {
    "colab": {
      "provenance": []
    },
    "kernelspec": {
      "display_name": "Python 3",
      "name": "python3"
    },
    "language_info": {
      "name": "python"
    }
  },
  "nbformat": 4,
  "nbformat_minor": 0
}
