{
  "cells": [
    {
      "cell_type": "markdown",
      "metadata": {
        "id": "ubneF5nfixNr"
      },
      "source": [
        "# Coding Exercise #0106"
      ]
    },
    {
      "cell_type": "markdown",
      "metadata": {
        "id": "agD0CU54ixNy"
      },
      "source": [
        "### 1. Transforming DataFrames:"
      ]
    },
    {
      "cell_type": "code",
      "execution_count": null,
      "metadata": {
        "id": "nh7Plt4wixN0"
      },
      "outputs": [],
      "source": [
        "import pandas as pd\n",
        "import numpy as np\n",
        "import os"
      ]
    },
    {
      "cell_type": "code",
      "execution_count": null,
      "metadata": {
        "id": "CoI48ZULixN2"
      },
      "outputs": [],
      "source": [
        "# Go to the directory where the data file is located.\n",
        "os.chdir(r'~~')                # Please, replace the path with your own."
      ]
    },
    {
      "cell_type": "code",
      "execution_count": null,
      "metadata": {
        "id": "gL5jddJvixN3"
      },
      "outputs": [],
      "source": [
        "df = pd.read_csv('data_studentlist.csv', header='infer')"
      ]
    },
    {
      "cell_type": "code",
      "execution_count": null,
      "metadata": {
        "id": "8IMUjBUBixN4"
      },
      "outputs": [],
      "source": [
        "# Replace the columns (header).\n",
        "df.columns = ['NAME', 'GENDER' , 'AGE', 'GRADE', 'ABSENCE', 'BLOODTYPE', 'HEIGHT', 'WEIGHT']\n",
        "df.head(3)"
      ]
    },
    {
      "cell_type": "markdown",
      "metadata": {
        "id": "48ZzRgHgixN5"
      },
      "source": [
        "#### 1.1. Adding and removing columns:"
      ]
    },
    {
      "cell_type": "code",
      "execution_count": null,
      "metadata": {
        "id": "wCWOO0LpixN6"
      },
      "outputs": [],
      "source": [
        "df['BMI'] = 10000*df['WEIGHT']/df['HEIGHT']**2"
      ]
    },
    {
      "cell_type": "code",
      "execution_count": null,
      "metadata": {
        "id": "DuZc0YGOixN7"
      },
      "outputs": [],
      "source": [
        "df.head(5)"
      ]
    },
    {
      "cell_type": "code",
      "execution_count": null,
      "metadata": {
        "id": "g9zybwqMixN8"
      },
      "outputs": [],
      "source": [
        "# drop() method removes a column. But it is just a 'view'.\n",
        "df.drop('BMI',axis=1)"
      ]
    },
    {
      "cell_type": "code",
      "execution_count": null,
      "metadata": {
        "id": "07Og_XSeixN9"
      },
      "outputs": [],
      "source": [
        "# The 'drop' was not permanent,\n",
        "df.head(5)"
      ]
    },
    {
      "cell_type": "code",
      "execution_count": null,
      "metadata": {
        "id": "P0VVopbSixN-"
      },
      "outputs": [],
      "source": [
        "# inplace=True makes the removal permanent.\n",
        "df.drop('BMI',axis=1,inplace=True)\n",
        "df.head(5)"
      ]
    },
    {
      "cell_type": "markdown",
      "metadata": {
        "id": "gpF0k2jtixN_"
      },
      "source": [
        "#### 1.2. Merging DataFrames:"
      ]
    },
    {
      "cell_type": "code",
      "execution_count": null,
      "metadata": {
        "id": "9m4jz9QlixOA"
      },
      "outputs": [],
      "source": [
        "df_left = df.loc[:,['NAME','AGE','GENDER','GRADE','ABSENCE']]\n",
        "df_left_small = df_left.loc[:10,]\n",
        "df_left_small"
      ]
    },
    {
      "cell_type": "code",
      "execution_count": null,
      "metadata": {
        "id": "hZh0-2sFixOA"
      },
      "outputs": [],
      "source": [
        "df_right = df.loc[:,['NAME','BLOODTYPE','WEIGHT','HEIGHT']]\n",
        "df_right_small = df_right.loc[7:,]\n",
        "df_right_small"
      ]
    },
    {
      "cell_type": "markdown",
      "metadata": {
        "id": "KQch3hEBixOB"
      },
      "source": [
        "Inner join:"
      ]
    },
    {
      "cell_type": "code",
      "execution_count": null,
      "metadata": {
        "id": "JuTGaQRBixOB"
      },
      "outputs": [],
      "source": [
        "pd.merge(df_left_small,df_right_small,left_on='NAME', right_on = 'NAME', how='inner')"
      ]
    },
    {
      "cell_type": "markdown",
      "metadata": {
        "id": "-fUQszeTixOC"
      },
      "source": [
        "Left join:"
      ]
    },
    {
      "cell_type": "code",
      "execution_count": null,
      "metadata": {
        "id": "lUge_0SdixOC"
      },
      "outputs": [],
      "source": [
        "pd.merge(df_left_small,df_right_small,left_on='NAME', right_on = 'NAME', how='left')"
      ]
    },
    {
      "cell_type": "markdown",
      "metadata": {
        "id": "Zgg4eargixOD"
      },
      "source": [
        "Right join:"
      ]
    },
    {
      "cell_type": "code",
      "execution_count": null,
      "metadata": {
        "id": "iht5SEfIixOE"
      },
      "outputs": [],
      "source": [
        "pd.merge(df_left_small,df_right_small,left_on='NAME', right_on = 'NAME', how='right')"
      ]
    },
    {
      "cell_type": "markdown",
      "metadata": {
        "id": "hOw9LqU8ixOH"
      },
      "source": [
        "Full outer join:"
      ]
    },
    {
      "cell_type": "code",
      "execution_count": null,
      "metadata": {
        "id": "yslhYX3WixOH"
      },
      "outputs": [],
      "source": [
        "pd.merge(df_left_small,df_right_small,left_on='NAME', right_on = 'NAME', how='outer')"
      ]
    },
    {
      "cell_type": "markdown",
      "metadata": {
        "id": "5dIfZtCQixOI"
      },
      "source": [
        "#### 1.3. Binding DataFrames:"
      ]
    },
    {
      "cell_type": "markdown",
      "metadata": {
        "id": "xTpkQidCixOI"
      },
      "source": [
        "Bind vertically matched by 'columns':"
      ]
    },
    {
      "cell_type": "code",
      "execution_count": null,
      "metadata": {
        "id": "iMZOkY1wixOI"
      },
      "outputs": [],
      "source": [
        "pd.concat([df_left_small,df_right_small],sort=True)"
      ]
    },
    {
      "cell_type": "markdown",
      "metadata": {
        "id": "YIipMA6KixOI"
      },
      "source": [
        "Bind horizontally matched by 'index':"
      ]
    },
    {
      "cell_type": "code",
      "execution_count": null,
      "metadata": {
        "id": "PXeHjTmUixOI"
      },
      "outputs": [],
      "source": [
        "pd.concat([df_left_small,df_right_small],axis=1,sort=True)"
      ]
    },
    {
      "cell_type": "code",
      "execution_count": null,
      "metadata": {
        "id": "BfZlF-ETixOJ"
      },
      "outputs": [],
      "source": []
    }
  ],
  "metadata": {
    "kernelspec": {
      "display_name": "Python 3",
      "language": "python",
      "name": "python3"
    },
    "language_info": {
      "codemirror_mode": {
        "name": "ipython",
        "version": 3
      },
      "file_extension": ".py",
      "mimetype": "text/x-python",
      "name": "python",
      "nbconvert_exporter": "python",
      "pygments_lexer": "ipython3",
      "version": "3.8.8"
    },
    "colab": {
      "provenance": []
    }
  },
  "nbformat": 4,
  "nbformat_minor": 0
}