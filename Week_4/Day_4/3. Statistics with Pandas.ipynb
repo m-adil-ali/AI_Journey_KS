{
  "cells": [
    {
      "cell_type": "markdown",
      "metadata": {
        "id": "e7Wp7Fo9ixXJ"
      },
      "source": [
        "# Coding Exercise #0107"
      ]
    },
    {
      "cell_type": "markdown",
      "metadata": {
        "id": "CF8W2jgyixXO"
      },
      "source": [
        "### 1. Statistics with Pandas:"
      ]
    },
    {
      "cell_type": "code",
      "execution_count": null,
      "metadata": {
        "id": "EYdzcc8bixXP"
      },
      "outputs": [],
      "source": [
        "import pandas as pd\n",
        "import numpy as np\n",
        "import os"
      ]
    },
    {
      "cell_type": "markdown",
      "metadata": {
        "id": "4WhFT4YdixXR"
      },
      "source": [
        "#### 1.1. Read data into a DataFrame:"
      ]
    },
    {
      "cell_type": "code",
      "execution_count": null,
      "metadata": {
        "id": "jwHceCyCixXS"
      },
      "outputs": [],
      "source": [
        "# Go to the directory where the data file is located.\n",
        "os.chdir(r'~~')                # Please, replace the path with your own."
      ]
    },
    {
      "cell_type": "code",
      "execution_count": null,
      "metadata": {
        "id": "51m-bzQRixXS"
      },
      "outputs": [],
      "source": [
        "df = pd.read_csv('data_iris.csv', header='infer')"
      ]
    },
    {
      "cell_type": "code",
      "execution_count": null,
      "metadata": {
        "id": "bH8iJjuOixXT"
      },
      "outputs": [],
      "source": [
        "df.shape"
      ]
    },
    {
      "cell_type": "code",
      "execution_count": null,
      "metadata": {
        "id": "_jxxnUiCixXU"
      },
      "outputs": [],
      "source": [
        "df.info()"
      ]
    },
    {
      "cell_type": "code",
      "execution_count": null,
      "metadata": {
        "id": "XVMUXWINixXU"
      },
      "outputs": [],
      "source": [
        "df.head(3)"
      ]
    },
    {
      "cell_type": "code",
      "execution_count": null,
      "metadata": {
        "id": "eg8twpnnixXV"
      },
      "outputs": [],
      "source": [
        "df.tail(3)"
      ]
    },
    {
      "cell_type": "markdown",
      "metadata": {
        "id": "f885vGvIixXV"
      },
      "source": [
        "#### 1.2. Statistics using DataFrame methods:"
      ]
    },
    {
      "cell_type": "code",
      "execution_count": null,
      "metadata": {
        "id": "nMQG0HPmixXW"
      },
      "outputs": [],
      "source": [
        "# Column averages.\n",
        "df.mean(axis=0)"
      ]
    },
    {
      "cell_type": "code",
      "execution_count": null,
      "metadata": {
        "id": "H863XI4iixXW"
      },
      "outputs": [],
      "source": [
        "# Descriptive statistics.\n",
        "df.describe()"
      ]
    },
    {
      "cell_type": "code",
      "execution_count": null,
      "metadata": {
        "id": "fxYQA3gwixXW"
      },
      "outputs": [],
      "source": [
        "# Correlation.\n",
        "df.loc[:,'Sepal.Length'].corr(df.loc[:,'Sepal.Width'])"
      ]
    },
    {
      "cell_type": "code",
      "execution_count": null,
      "metadata": {
        "id": "460aBzMcixXX"
      },
      "outputs": [],
      "source": [
        "# Correlation.\n",
        "df.loc[:,'Sepal.Length'].corr(df.loc[:,'Petal.Length'])"
      ]
    },
    {
      "cell_type": "code",
      "execution_count": null,
      "metadata": {
        "id": "ls9Ek8HrixXX"
      },
      "outputs": [],
      "source": [
        "# Correlation matrix.\n",
        "np.round(df.corr(),3)"
      ]
    },
    {
      "cell_type": "code",
      "execution_count": null,
      "metadata": {
        "id": "P-S9M4nCixXX"
      },
      "outputs": [],
      "source": [
        "# Correlation with respect to one variable (column).\n",
        "df.corrwith(df.loc[:,'Petal.Length'])"
      ]
    },
    {
      "cell_type": "markdown",
      "metadata": {
        "id": "43aC8wR1ixXX"
      },
      "source": [
        "#### 1.3. Slice and then apply a statistic method:"
      ]
    },
    {
      "cell_type": "code",
      "execution_count": null,
      "metadata": {
        "id": "U92V-AXZixXX"
      },
      "outputs": [],
      "source": [
        "df[df.Species=='setosa'].mean(axis=0)"
      ]
    },
    {
      "cell_type": "code",
      "execution_count": null,
      "metadata": {
        "id": "oPtcnj45ixXX"
      },
      "outputs": [],
      "source": [
        "df[df.Species=='virginica'].mean(axis=0)"
      ]
    },
    {
      "cell_type": "code",
      "execution_count": null,
      "metadata": {
        "id": "gNs6wtA0ixXY"
      },
      "outputs": [],
      "source": [
        "df[df.Species=='versicolor'].mean(axis=0)"
      ]
    },
    {
      "cell_type": "markdown",
      "metadata": {
        "id": "5i5Xp-HxixXY"
      },
      "source": [
        "Frequency table:"
      ]
    },
    {
      "cell_type": "code",
      "execution_count": null,
      "metadata": {
        "id": "zn9gvKAFixXY"
      },
      "outputs": [],
      "source": [
        "df.Species.value_counts()"
      ]
    },
    {
      "cell_type": "markdown",
      "metadata": {
        "id": "RmiLf6M1ixXY"
      },
      "source": [
        "### 2. Missing values:"
      ]
    },
    {
      "cell_type": "markdown",
      "metadata": {
        "id": "0gfDyJ9ZixXZ"
      },
      "source": [
        "First of all, we purposefully enter the missing values:"
      ]
    },
    {
      "cell_type": "code",
      "execution_count": null,
      "metadata": {
        "id": "QWekdsPkixXZ"
      },
      "outputs": [],
      "source": [
        "df.iloc[10,0] = np.nan\n",
        "df.iloc[2,2] = np.nan\n",
        "df.iloc[17,2] = np.nan\n",
        "df.iloc[2,3] = np.nan\n",
        "df.iloc[129,2] = np.nan"
      ]
    },
    {
      "cell_type": "code",
      "execution_count": null,
      "metadata": {
        "id": "t_6yms55ixXZ"
      },
      "outputs": [],
      "source": [
        "df.head(3)"
      ]
    },
    {
      "cell_type": "markdown",
      "metadata": {
        "id": "cRZQGNERixXZ"
      },
      "source": [
        "#### 2.1. Statistics of the missing values:"
      ]
    },
    {
      "cell_type": "code",
      "execution_count": null,
      "metadata": {
        "id": "duKcb742ixXZ"
      },
      "outputs": [],
      "source": [
        "# Count non-missing values per column.\n",
        "df.count(axis=0)"
      ]
    },
    {
      "cell_type": "code",
      "execution_count": null,
      "metadata": {
        "id": "1dWwEabTixXZ"
      },
      "outputs": [],
      "source": [
        "# Calculate the averages skipping the missing values.\n",
        "df.drop(columns='Species').mean(axis=0)                                 # 'Species' column is left out."
      ]
    },
    {
      "cell_type": "code",
      "execution_count": null,
      "metadata": {
        "id": "6_tcTZSXixXa"
      },
      "outputs": [],
      "source": [
        "# Try to calculate the averages without skipping the missing values.  => NaNs appear!\n",
        "df.drop(columns='Species').mean(axis=0, skipna=False)                  # 'Species' column is left out."
      ]
    },
    {
      "cell_type": "markdown",
      "metadata": {
        "id": "9KjzSf68ixXa"
      },
      "source": [
        "#### 2.2. Detect and process the missing values:"
      ]
    },
    {
      "cell_type": "code",
      "execution_count": null,
      "metadata": {
        "id": "HLLnCQFcixXa"
      },
      "outputs": [],
      "source": [
        "# Count the missing values per column.\n",
        "(df.isnull()).sum(axis=0)"
      ]
    },
    {
      "cell_type": "code",
      "execution_count": null,
      "metadata": {
        "id": "kVcZMQrVixXa"
      },
      "outputs": [],
      "source": [
        "# Proportion of missing values per column.\n",
        "(df.isnull()).mean(axis=0)"
      ]
    },
    {
      "cell_type": "code",
      "execution_count": null,
      "metadata": {
        "id": "2_bAHfOqixXa"
      },
      "outputs": [],
      "source": [
        "# Drop the rows with at leat one missing value.\n",
        "df2 = df.dropna(axis=0)"
      ]
    },
    {
      "cell_type": "code",
      "execution_count": null,
      "metadata": {
        "id": "zeLwYqKPixXb"
      },
      "outputs": [],
      "source": [
        "df2.shape"
      ]
    },
    {
      "cell_type": "code",
      "execution_count": null,
      "metadata": {
        "id": "3A1y55zgixXb"
      },
      "outputs": [],
      "source": [
        "df2.head(3)"
      ]
    },
    {
      "cell_type": "code",
      "execution_count": null,
      "metadata": {
        "id": "ZlqSEvqgixXb"
      },
      "outputs": [],
      "source": [
        "# Drop the rows with less than 4 normal values.\n",
        "df2 = df.dropna(axis=0, thresh = 4)\n",
        "df2.shape"
      ]
    },
    {
      "cell_type": "code",
      "execution_count": null,
      "metadata": {
        "id": "vEBuztjsixXb"
      },
      "outputs": [],
      "source": [
        "# Drop the columns with at least one missing value.\n",
        "df3 = df.dropna(axis=1)\n",
        "df3.shape"
      ]
    },
    {
      "cell_type": "code",
      "execution_count": null,
      "metadata": {
        "id": "eF4E6EdpixXg"
      },
      "outputs": [],
      "source": [
        "df3.head(3)"
      ]
    },
    {
      "cell_type": "code",
      "execution_count": null,
      "metadata": {
        "id": "EQX4cvbGixXg"
      },
      "outputs": [],
      "source": [
        "# Drop the columns with less than 149 normal values.\n",
        "df3 = df.dropna(axis=1, thresh = 149)\n",
        "df3.shape"
      ]
    },
    {
      "cell_type": "code",
      "execution_count": null,
      "metadata": {
        "id": "747fhNq4ixXh"
      },
      "outputs": [],
      "source": [
        "df3.head(3)"
      ]
    },
    {
      "cell_type": "markdown",
      "metadata": {
        "id": "jDVRO2kiixXh"
      },
      "source": [
        "#### 2.3. Fill the missing values:"
      ]
    },
    {
      "cell_type": "code",
      "execution_count": null,
      "metadata": {
        "id": "l6chpWWAixXh"
      },
      "outputs": [],
      "source": [
        "# Fill the missing values with 0.\n",
        "df4 = df.fillna(value=0)\n",
        "df4.count()                         # axis=0 by default."
      ]
    },
    {
      "cell_type": "code",
      "execution_count": null,
      "metadata": {
        "id": "JUm5u2o0ixXh"
      },
      "outputs": [],
      "source": [
        "# Fill the missing values using column averages.\n",
        "df['Sepal.Length'] = df['Sepal.Length'].fillna(value=df['Sepal.Length'].mean())\n",
        "df['Petal.Length'] = df['Petal.Length'].fillna(value=df['Petal.Length'].mean())\n",
        "df['Petal.Width'] = df['Petal.Width'].fillna(value=df['Petal.Width'].mean())\n",
        "df.count()                          # axis=0 by default."
      ]
    },
    {
      "cell_type": "code",
      "execution_count": null,
      "metadata": {
        "id": "Ujf7-QJOixXi"
      },
      "outputs": [],
      "source": [
        "df.head(3)"
      ]
    },
    {
      "cell_type": "code",
      "execution_count": null,
      "metadata": {
        "id": "4bAe_up7ixXi"
      },
      "outputs": [],
      "source": []
    }
  ],
  "metadata": {
    "kernelspec": {
      "display_name": "Python 3",
      "language": "python",
      "name": "python3"
    },
    "language_info": {
      "codemirror_mode": {
        "name": "ipython",
        "version": 3
      },
      "file_extension": ".py",
      "mimetype": "text/x-python",
      "name": "python",
      "nbconvert_exporter": "python",
      "pygments_lexer": "ipython3",
      "version": "3.8.8"
    },
    "colab": {
      "provenance": []
    }
  },
  "nbformat": 4,
  "nbformat_minor": 0
}