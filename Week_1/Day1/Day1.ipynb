{
  "nbformat": 4,
  "nbformat_minor": 0,
  "metadata": {
    "colab": {
      "provenance": []
    },
    "kernelspec": {
      "name": "python3",
      "display_name": "Python 3"
    },
    "language_info": {
      "name": "python"
    }
  },
  "cells": [
    {
      "cell_type": "markdown",
      "source": [
        "# Day 1: AI KS"
      ],
      "metadata": {
        "id": "p_H1PfsSQ-Cu"
      }
    },
    {
      "cell_type": "markdown",
      "source": [
        "# Question 1"
      ],
      "metadata": {
        "id": "ZzyI3SeDRE28"
      }
    },
    {
      "cell_type": "code",
      "execution_count": null,
      "metadata": {
        "colab": {
          "base_uri": "https://localhost:8080/"
        },
        "id": "q1MyOxcWQqBn",
        "outputId": "a1033900-94fd-4997-a018-b57e65bec121"
      },
      "outputs": [
        {
          "output_type": "stream",
          "name": "stdout",
          "text": [
            "this is a message\n"
          ]
        }
      ],
      "source": [
        "# Assigning message in a variable\n",
        "x = 'this is a message'\n",
        "# printing message\n",
        "print(x)"
      ]
    },
    {
      "cell_type": "markdown",
      "source": [
        "# Question 2"
      ],
      "metadata": {
        "id": "89DOtgSnRD80"
      }
    },
    {
      "cell_type": "code",
      "source": [
        "# Assigning message in a variable\n",
        "y = 'this is a message 2'\n",
        "# printing message\n",
        "print(y)"
      ],
      "metadata": {
        "colab": {
          "base_uri": "https://localhost:8080/"
        },
        "id": "b6UZ7kW8RDr8",
        "outputId": "e30fb8d9-157e-4409-98be-e375292460cf"
      },
      "execution_count": null,
      "outputs": [
        {
          "output_type": "stream",
          "name": "stdout",
          "text": [
            "this is a message 2\n"
          ]
        }
      ]
    },
    {
      "cell_type": "code",
      "source": [
        "# Changing value of y\n",
        "y = 123.237\n",
        "print(y)"
      ],
      "metadata": {
        "colab": {
          "base_uri": "https://localhost:8080/"
        },
        "id": "O0Ym1BCBRZxE",
        "outputId": "4514d86e-3e14-4d2f-cf38-d5ffc75fd317"
      },
      "execution_count": null,
      "outputs": [
        {
          "output_type": "stream",
          "name": "stdout",
          "text": [
            "123.237\n"
          ]
        }
      ]
    },
    {
      "cell_type": "markdown",
      "source": [
        "# Question 3"
      ],
      "metadata": {
        "id": "ran71kLXRnWM"
      }
    },
    {
      "cell_type": "code",
      "source": [
        "name = 'Adil'\n",
        "\n",
        "print(f'Hi {name}, hope you are enjoing practing python.')"
      ],
      "metadata": {
        "colab": {
          "base_uri": "https://localhost:8080/"
        },
        "id": "xVJFEl0xRlvE",
        "outputId": "6e44011d-b0c0-43e5-b868-1d189a473834"
      },
      "execution_count": null,
      "outputs": [
        {
          "output_type": "stream",
          "name": "stdout",
          "text": [
            "Hi Adil, hope you are enjoing practing python.\n"
          ]
        }
      ]
    },
    {
      "cell_type": "markdown",
      "source": [
        "# Question 4"
      ],
      "metadata": {
        "id": "yDtyZtAgSaSl"
      }
    },
    {
      "cell_type": "code",
      "source": [
        "name1 = 'Anwar'\n",
        "l = name1.lower()\n",
        "u = name1.upper()\n",
        "t = name1.title()\n",
        "\n",
        "print(f'Lower case of name is {l}.\\nUpper case of name is {u}.\\nTittle case of the name is {t}.')\n",
        "\n"
      ],
      "metadata": {
        "colab": {
          "base_uri": "https://localhost:8080/"
        },
        "id": "o09CGRghSODM",
        "outputId": "92121d1d-9b8c-4a45-d58f-57fd1bf6a394"
      },
      "execution_count": null,
      "outputs": [
        {
          "output_type": "stream",
          "name": "stdout",
          "text": [
            "Lower case of name is anwar.\n",
            "Upper case of name is ANWAR.\n",
            "Tittle case of the name is Anwar.\n"
          ]
        }
      ]
    },
    {
      "cell_type": "markdown",
      "source": [
        "# Question 5"
      ],
      "metadata": {
        "id": "E8sfDXk_VGpV"
      }
    },
    {
      "cell_type": "code",
      "source": [
        "quote = 'Zoints regime is dying.'\n",
        "\n",
        "print(f'Ayatullah Khamaenai once said, \\\"{quote}\\\"')\n"
      ],
      "metadata": {
        "colab": {
          "base_uri": "https://localhost:8080/"
        },
        "id": "oO9o50-9UB3V",
        "outputId": "83a71d35-00c1-47b7-bc57-7a1f95396271"
      },
      "execution_count": null,
      "outputs": [
        {
          "output_type": "stream",
          "name": "stdout",
          "text": [
            "Ayatullah Khamaenai once said, \"Zoints regime is dying.\"\n"
          ]
        }
      ]
    },
    {
      "cell_type": "markdown",
      "source": [
        "\n",
        "# Question 6"
      ],
      "metadata": {
        "id": "00k-15T-WTu4"
      }
    },
    {
      "cell_type": "code",
      "source": [
        "author = 'Andrew Ng'\n",
        "\n",
        "quote = 'AI is the new electricity'\n",
        "\n",
        "print(f'{author} once said, \\\"{quote}.\\\"')\n"
      ],
      "metadata": {
        "colab": {
          "base_uri": "https://localhost:8080/"
        },
        "id": "qX2lYpvgV1t-",
        "outputId": "b525ce3f-dad7-474f-9e23-6bbf1eb3b2a8"
      },
      "execution_count": null,
      "outputs": [
        {
          "output_type": "stream",
          "name": "stdout",
          "text": [
            "Andrew Ng once said, \"AI is the new electricity.\"\n"
          ]
        }
      ]
    },
    {
      "cell_type": "markdown",
      "source": [
        "# Question 7"
      ],
      "metadata": {
        "id": "ranHzYszYOi7"
      }
    },
    {
      "cell_type": "code",
      "source": [
        "# Strip is used for removing whitespaces\n",
        "name2 = '   \\t   name  . \\t \\n '\n",
        "\n",
        "print(name2)\n",
        "\n",
        "print(f'l: {name2.lstrip()}') # remove whitespace from left of the content\n",
        "print(f'r: {name2.rstrip()}') # remove from right\n",
        "print(f'n: {name2.strip()}') # remove from both sides"
      ],
      "metadata": {
        "colab": {
          "base_uri": "https://localhost:8080/"
        },
        "id": "7-qOiYWdXHCL",
        "outputId": "e3012d73-5b99-439d-c7cb-2be93ccf7a24"
      },
      "execution_count": null,
      "outputs": [
        {
          "output_type": "stream",
          "name": "stdout",
          "text": [
            "   \t   name  . \t \n",
            " \n",
            "l: name  . \t \n",
            " \n",
            "r:    \t   name  .\n",
            "n: name  .\n"
          ]
        }
      ]
    },
    {
      "cell_type": "markdown",
      "source": [
        "# Question 8"
      ],
      "metadata": {
        "id": "GO9sUZ0-ZWbn"
      }
    },
    {
      "cell_type": "code",
      "source": [
        "value = 'Python_file.txt'\n",
        "\n",
        "print(value.removesuffix('.txt'))\n",
        "print(value.removeprefix('Py'))"
      ],
      "metadata": {
        "colab": {
          "base_uri": "https://localhost:8080/"
        },
        "id": "p5EEp6S1YnYc",
        "outputId": "3eb21439-f3d9-40f4-ff94-c1d51c9bc0a5"
      },
      "execution_count": null,
      "outputs": [
        {
          "output_type": "stream",
          "name": "stdout",
          "text": [
            "Python_file\n",
            "thon_file.txt\n"
          ]
        }
      ]
    },
    {
      "cell_type": "markdown",
      "source": [
        "# Question 9"
      ],
      "metadata": {
        "id": "FM4Jw9qVcFUR"
      }
    },
    {
      "cell_type": "code",
      "source": [
        "fav = 5\n",
        "\n",
        "message = 'my favorite number is '\n",
        "\n",
        "print(f'{message}{fav}')"
      ],
      "metadata": {
        "colab": {
          "base_uri": "https://localhost:8080/"
        },
        "id": "l_V6M4qPa63E",
        "outputId": "32deef50-762e-489d-8452-b28828110e67"
      },
      "execution_count": null,
      "outputs": [
        {
          "output_type": "stream",
          "name": "stdout",
          "text": [
            "my favorite number is 5\n"
          ]
        }
      ]
    },
    {
      "cell_type": "markdown",
      "source": [
        "# Next Exercise"
      ],
      "metadata": {
        "id": "BFmwMsjzdn1T"
      }
    },
    {
      "cell_type": "markdown",
      "source": [
        "# 2-1"
      ],
      "metadata": {
        "id": "4JM8DiHVdrCC"
      }
    },
    {
      "cell_type": "code",
      "source": [
        "names = ['safdar', 'khan', 'lala','mustafa', 'haider','ali']\n",
        "\n",
        "print(f'name 1 = {names[0]}\\nname 2 = {names[1]}\\nname 3 = {names[2]}\\nname 4 = {names[3]}\\nname 5 = {names[4]}\\nname 6 = {names[5]}')"
      ],
      "metadata": {
        "colab": {
          "base_uri": "https://localhost:8080/"
        },
        "id": "PPc15XnmcJBh",
        "outputId": "7396997d-f604-4810-c05a-0c5b79888690"
      },
      "execution_count": null,
      "outputs": [
        {
          "output_type": "stream",
          "name": "stdout",
          "text": [
            "name 1 = safdar\n",
            "name 2 = khan\n",
            "name 3 = lala\n",
            "name 4 = mustafa\n",
            "name 5 = haider\n",
            "name 6 = ali\n"
          ]
        }
      ]
    },
    {
      "cell_type": "markdown",
      "source": [
        "# 2-2"
      ],
      "metadata": {
        "id": "9RS_3GUMeuuD"
      }
    },
    {
      "cell_type": "code",
      "source": [
        "message = 'Hello, how are you dear'\n",
        "\n",
        "print(f'{message} {names[0]}\\n{message} {names[1]}\\n{message} {names[2]}\\n{message} {names[3]}\\n{message} {names[4]}\\n{message} {names[5]}')"
      ],
      "metadata": {
        "colab": {
          "base_uri": "https://localhost:8080/"
        },
        "id": "JJ8rDh_Xeo_6",
        "outputId": "b0fe734d-57e3-4799-a7b3-54512aabc276"
      },
      "execution_count": null,
      "outputs": [
        {
          "output_type": "stream",
          "name": "stdout",
          "text": [
            "Hello, how are you dear safdar\n",
            "Hello, how are you dear khan\n",
            "Hello, how are you dear lala\n",
            "Hello, how are you dear mustafa\n",
            "Hello, how are you dear haider\n",
            "Hello, how are you dear ali\n"
          ]
        }
      ]
    },
    {
      "cell_type": "markdown",
      "source": [
        "# 2-3"
      ],
      "metadata": {
        "id": "T5QkvZsggqLT"
      }
    },
    {
      "cell_type": "code",
      "source": [
        "invited = names[1:4]\n",
        "print(f'invited persons are: {invited}')\n",
        "print('*'* 50)\n",
        "invitation = 'hope you are doing great. You are warmly invited to the dinner'\n",
        "\n",
        "#inviting only people in invited list\n",
        "#print(f'{invited[0]}, {invitation}\\n{invited[1]}, {invitation}\\n{invited[2]}, {invitation}')\n",
        "\n",
        "# Alternate:\n",
        "for i in range(len(invited)):\n",
        "  print(f'{invited[i]}, {invitation}')"
      ],
      "metadata": {
        "colab": {
          "base_uri": "https://localhost:8080/"
        },
        "id": "RrJ54lCjfiid",
        "outputId": "ce3dc613-c67f-4c6b-8d4c-f1783ea099f8"
      },
      "execution_count": null,
      "outputs": [
        {
          "output_type": "stream",
          "name": "stdout",
          "text": [
            "invited persons are: ['khan', 'lala', 'mustafa']\n",
            "**************************************************\n",
            "khan, hope you are doing great. You are warmly invited to the dinner\n",
            "lala, hope you are doing great. You are warmly invited to the dinner\n",
            "mustafa, hope you are doing great. You are warmly invited to the dinner\n"
          ]
        }
      ]
    },
    {
      "cell_type": "markdown",
      "source": [
        "# 2-4"
      ],
      "metadata": {
        "id": "MG2WxCYKgsha"
      }
    },
    {
      "cell_type": "code",
      "source": [
        "# one of the guests cant make it\n",
        "print(f'{invited[1]}, cant make it. So we must replace him with anwar')\n",
        "print('*'*50)\n",
        "# updating the list\n",
        "\n",
        "for i in range(len(invited)):\n",
        "  if invited[i] == 'lala':\n",
        "    invited[i] = 'anwar'\n",
        "\n",
        "\n",
        "for i in range(len(invited)):\n",
        "  print(f'{invited[i]}, {invitation}')\n",
        "\n",
        "#simple way\n",
        "#print(f'{invited[0]}, {invitation}\\n{invited[1]}, {invitation}\\n{invited[2]}, {invitation}')"
      ],
      "metadata": {
        "colab": {
          "base_uri": "https://localhost:8080/"
        },
        "id": "hsdUbS2bgiAo",
        "outputId": "f4167c39-fa5a-458d-d287-1ebeabb33da3"
      },
      "execution_count": null,
      "outputs": [
        {
          "output_type": "stream",
          "name": "stdout",
          "text": [
            "lala, cant make it. So we must replace him with anwar\n",
            "**************************************************\n",
            "khan, hope you are doing great. You are warmly invited to the dinner\n",
            "anwar, hope you are doing great. You are warmly invited to the dinner\n",
            "mustafa, hope you are doing great. You are warmly invited to the dinner\n"
          ]
        }
      ]
    },
    {
      "cell_type": "markdown",
      "source": [
        "# 2-5"
      ],
      "metadata": {
        "id": "HPeBiWscmjBs"
      }
    },
    {
      "cell_type": "code",
      "source": [
        "print(f'Guys! {invited}, we have found a big table. We can add more people\\n')\n",
        "\n",
        "invited.insert(0,'first person')\n",
        "invited.insert(2, 'middle man')\n",
        "invited.append('last man')\n",
        "\n",
        "\n",
        "print(f'Updated list of invited people: {invited}')\n",
        "print('*'*50)\n",
        "print('invitations')\n",
        "print('*'*50)\n",
        "\n",
        "for i in range(len(invited)):\n",
        "\n",
        "  print(f'{invited[i]}, {invitation}\\n')\n"
      ],
      "metadata": {
        "colab": {
          "base_uri": "https://localhost:8080/"
        },
        "id": "3K24z4qIiH74",
        "outputId": "cdbd576d-068b-4499-be71-67a47dd121a6"
      },
      "execution_count": null,
      "outputs": [
        {
          "output_type": "stream",
          "name": "stdout",
          "text": [
            "Guys! ['khan', 'anwar', 'mustafa'], we have found a big table. We can add more people\n",
            "\n",
            "Updated list of invited people: ['first person', 'khan', 'middle man', 'anwar', 'mustafa', 'last man']\n",
            "**************************************************\n",
            "invitations\n",
            "**************************************************\n",
            "first person, hope you are doing great. You are warmly invited to the dinner\n",
            "\n",
            "khan, hope you are doing great. You are warmly invited to the dinner\n",
            "\n",
            "middle man, hope you are doing great. You are warmly invited to the dinner\n",
            "\n",
            "anwar, hope you are doing great. You are warmly invited to the dinner\n",
            "\n",
            "mustafa, hope you are doing great. You are warmly invited to the dinner\n",
            "\n",
            "last man, hope you are doing great. You are warmly invited to the dinner\n",
            "\n"
          ]
        }
      ]
    },
    {
      "cell_type": "markdown",
      "source": [
        "# 2-6"
      ],
      "metadata": {
        "id": "5WMn1eSxqy_0"
      }
    },
    {
      "cell_type": "code",
      "source": [
        "copy = invited.copy()"
      ],
      "metadata": {
        "id": "ZjsQ6akVxBvl"
      },
      "execution_count": null,
      "outputs": []
    },
    {
      "cell_type": "code",
      "source": [
        "copy"
      ],
      "metadata": {
        "colab": {
          "base_uri": "https://localhost:8080/"
        },
        "id": "taIe0uEgxa0e",
        "outputId": "73f466da-8a80-424e-a5e0-516f324fa4fc"
      },
      "execution_count": null,
      "outputs": [
        {
          "output_type": "execute_result",
          "data": {
            "text/plain": [
              "['first person', 'khan', 'middle man', 'anwar', 'mustafa', 'last man']"
            ]
          },
          "metadata": {},
          "execution_count": 31
        }
      ]
    },
    {
      "cell_type": "code",
      "source": [
        "invited"
      ],
      "metadata": {
        "colab": {
          "base_uri": "https://localhost:8080/"
        },
        "id": "Mu1QT3-8xXZe",
        "outputId": "c47d305a-e87d-42f8-beb6-b59e21396b21"
      },
      "execution_count": null,
      "outputs": [
        {
          "output_type": "execute_result",
          "data": {
            "text/plain": [
              "['first person', 'khan', 'middle man', 'anwar', 'mustafa', 'last man']"
            ]
          },
          "metadata": {},
          "execution_count": 32
        }
      ]
    },
    {
      "cell_type": "code",
      "source": [
        "invited.append('adil')"
      ],
      "metadata": {
        "id": "YjFZ3IL6xV7I"
      },
      "execution_count": null,
      "outputs": []
    },
    {
      "cell_type": "code",
      "source": [
        "\n",
        "invited"
      ],
      "metadata": {
        "colab": {
          "base_uri": "https://localhost:8080/"
        },
        "id": "vCGQOM77xZWi",
        "outputId": "226169ad-d529-491d-bc29-5068afefd848"
      },
      "execution_count": null,
      "outputs": [
        {
          "output_type": "execute_result",
          "data": {
            "text/plain": [
              "['first person', 'khan', 'middle man', 'anwar', 'mustafa', 'last man', 'adil']"
            ]
          },
          "metadata": {},
          "execution_count": 35
        }
      ]
    },
    {
      "cell_type": "code",
      "source": [
        "copy1= copy.copy()"
      ],
      "metadata": {
        "id": "EKy6IZADxncQ"
      },
      "execution_count": null,
      "outputs": []
    },
    {
      "cell_type": "code",
      "source": [
        "print('Opps, we have only two seats avaiable!')\n",
        "\n",
        "for i in range(len(invited)-2):\n",
        "  print(f'Sorry, {invited.pop()} you are no more invited.')\n",
        "\n",
        "print('\\n')\n",
        "\n",
        "print('*'*40)\n",
        "\n",
        "for i in range(len(invited)):\n",
        "  print(f'{invited[i]} you are still invited')"
      ],
      "metadata": {
        "colab": {
          "base_uri": "https://localhost:8080/"
        },
        "id": "28wCVSv5ofc3",
        "outputId": "4482a077-1a65-4e55-893e-4a0fbc5bc72e"
      },
      "execution_count": null,
      "outputs": [
        {
          "output_type": "stream",
          "name": "stdout",
          "text": [
            "Opps, we have only two seats avaiable!\n",
            "Sorry, last man you are no more invited.\n",
            "Sorry, mustafa you are no more invited.\n",
            "Sorry, anwar you are no more invited.\n",
            "Sorry, middle man you are no more invited.\n",
            "\n",
            "\n",
            "****************************************\n",
            "first person you are still invited\n",
            "khan you are still invited\n"
          ]
        }
      ]
    },
    {
      "cell_type": "code",
      "source": [
        "del invited[:]\n",
        "print(invited)"
      ],
      "metadata": {
        "colab": {
          "base_uri": "https://localhost:8080/"
        },
        "id": "tFooh76azBlg",
        "outputId": "fbbd3396-3805-4568-914b-9ea4f8e15bc4"
      },
      "execution_count": null,
      "outputs": [
        {
          "output_type": "stream",
          "name": "stdout",
          "text": [
            "[]\n"
          ]
        }
      ]
    },
    {
      "cell_type": "markdown",
      "source": [
        "# 2-7"
      ],
      "metadata": {
        "id": "mCXKtbu8yj06"
      }
    },
    {
      "cell_type": "code",
      "source": [
        "places = ['lahore', 'karachi', 'multan','faisalabad','sialkot']\n",
        "\n",
        "print(places)\n",
        "\n",
        "print(places.sort())\n",
        "\n",
        "print(places)\n",
        "\n",
        "#places.sort(reverse=True)\n",
        "\n",
        "print(places)"
      ],
      "metadata": {
        "colab": {
          "base_uri": "https://localhost:8080/"
        },
        "id": "rnG9ymrusK9-",
        "outputId": "1ad4e5b1-291b-4b92-9dce-0f1529562a2a"
      },
      "execution_count": null,
      "outputs": [
        {
          "output_type": "stream",
          "name": "stdout",
          "text": [
            "['lahore', 'karachi', 'multan', 'faisalabad', 'sialkot']\n",
            "None\n",
            "['faisalabad', 'karachi', 'lahore', 'multan', 'sialkot']\n",
            "['faisalabad', 'karachi', 'lahore', 'multan', 'sialkot']\n"
          ]
        }
      ]
    },
    {
      "cell_type": "markdown",
      "source": [
        "compelete last two questions"
      ],
      "metadata": {
        "id": "LbJraX3b07-r"
      }
    },
    {
      "cell_type": "code",
      "source": [
        "places = ['lahore', 'karachi', 'multan','faisalabad','sialkot']\n",
        "\n",
        "print(places)\n",
        "print(sorted(places))\n",
        "print(places)\n",
        "print(sorted(places, reverse=True))\n",
        "print('original list:')\n",
        "print(places)\n",
        "print('reversed list:')\n",
        "places.reverse()\n",
        "print(places)\n",
        "print('reversed back list:')\n",
        "places.reverse()\n",
        "print(places)\n",
        "print('last list:')\n",
        "places.sort()\n",
        "print(places)\n",
        "places.sort(reverse=True)\n",
        "print(places)"
      ],
      "metadata": {
        "id": "Rv0q6lHHzI3B",
        "colab": {
          "base_uri": "https://localhost:8080/"
        },
        "outputId": "9d5c14de-9315-42f8-94ef-22cfb517b6b9"
      },
      "execution_count": null,
      "outputs": [
        {
          "output_type": "stream",
          "name": "stdout",
          "text": [
            "['lahore', 'karachi', 'multan', 'faisalabad', 'sialkot']\n",
            "['faisalabad', 'karachi', 'lahore', 'multan', 'sialkot']\n",
            "['lahore', 'karachi', 'multan', 'faisalabad', 'sialkot']\n",
            "['sialkot', 'multan', 'lahore', 'karachi', 'faisalabad']\n",
            "original list:\n",
            "['lahore', 'karachi', 'multan', 'faisalabad', 'sialkot']\n",
            "reversed list:\n",
            "['sialkot', 'faisalabad', 'multan', 'karachi', 'lahore']\n",
            "reversed back list:\n",
            "['lahore', 'karachi', 'multan', 'faisalabad', 'sialkot']\n",
            "last list:\n",
            "['faisalabad', 'karachi', 'lahore', 'multan', 'sialkot']\n",
            "['sialkot', 'multan', 'lahore', 'karachi', 'faisalabad']\n"
          ]
        }
      ]
    },
    {
      "cell_type": "markdown",
      "source": [
        "# Assignment:"
      ],
      "metadata": {
        "id": "CD0XDgF1IOpv"
      }
    },
    {
      "cell_type": "code",
      "source": [
        "box1 = [1,2,3,4]\n",
        "box2 = [5,6,7,8]\n",
        "\n"
      ],
      "metadata": {
        "id": "99yEnms_Cgdk"
      },
      "execution_count": null,
      "outputs": []
    }
  ]
}