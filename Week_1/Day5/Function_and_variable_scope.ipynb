{
  "cells": [
    {
      "cell_type": "markdown",
      "metadata": {
        "id": "QchehIjW5ZQn"
      },
      "source": [
        "#Function and variable scope\n",
        "\n",
        "**Functions and variables**\n",
        "It is essential to understand the levels of scope in Python and how things can be accessed from the four different scope levels. Below are the four scope levels and a brief explanation of where and how they are used.\n",
        "\n",
        "1. **Local scope**\n",
        "Local scope refers to a variable declared inside a function. For example, in the code below, the variable total is only available to the code within the get_total function. Anything outside of this function will not have access to it.\n",
        "\n"
      ]
    },
    {
      "cell_type": "code",
      "execution_count": 1,
      "metadata": {
        "colab": {
          "base_uri": "https://localhost:8080/"
        },
        "id": "74Jp0CA93gUi",
        "outputId": "cfa268b1-709c-41df-f280-059eb51c2b3c"
      },
      "outputs": [
        {
          "name": "stdout",
          "output_type": "stream",
          "text": [
            "7\n",
            "7\n"
          ]
        }
      ],
      "source": [
        "def get_total(a, b):\n",
        "    #local variable declared inside a function\n",
        "    get_total = a + b\n",
        "    return get_total\n",
        "\n",
        "print(get_total(5, 2))\n",
        "7\n",
        "\n",
        "# Accessing variable outside of the function:\n",
        "print(get_total(5,2))"
      ]
    },
    {
      "cell_type": "markdown",
      "metadata": {
        "id": "kJq134KY6CLK"
      },
      "source": [
        "2. **Enclosing scope**\n",
        "Enclosing scope refers to a function inside another function or what is commonly called a nested function.\n",
        "\n",
        "In the code below, I added a nested function called double_it to the get_total function.\n",
        "\n",
        "As double_it is inside the scope for the get_total function it can then access the variable. However, the enclosed variable inside the double_it function cannot be accessed from inside the get_total function."
      ]
    },
    {
      "cell_type": "code",
      "execution_count": 19,
      "metadata": {
        "id": "WcMNt_IO6B2z"
      },
      "outputs": [
        {
          "name": "stdout",
          "output_type": "stream",
          "text": [
            "16\n",
            "8\n"
          ]
        }
      ],
      "source": [
        "def get_total(a, b):\n",
        "    #enclosed variable declared inside a function\n",
        "    total = a + b\n",
        "\n",
        "    def double_it(a,b):\n",
        "        #local variable\n",
        "        double = total * 2\n",
        "        print(double)\n",
        "\n",
        "    double_it(a,b)\n",
        "    #double variable will not be accessible\n",
        "    #print(double_it)\n",
        "\n",
        "    return  total # double_it(a,b)\n",
        "\n",
        "get = get_total(3,5)\n",
        "print(get)"
      ]
    },
    {
      "cell_type": "markdown",
      "metadata": {
        "id": "QXvQylEk6avw"
      },
      "source": [
        "3. **Global scope**\n",
        "Global scope is when a variable is declared outside of a function. This means it can be accessed from anywhere.\n",
        "\n",
        "In the code below, I  added a global variable called special. This can then be accessed from both functions get_total and double_it:"
      ]
    },
    {
      "cell_type": "code",
      "execution_count": 13,
      "metadata": {
        "id": "Ot4qP5276eEU"
      },
      "outputs": [
        {
          "name": "stdout",
          "output_type": "stream",
          "text": [
            "5\n",
            "5\n"
          ]
        },
        {
          "data": {
            "text/plain": [
              "7"
            ]
          },
          "execution_count": 13,
          "metadata": {},
          "output_type": "execute_result"
        }
      ],
      "source": [
        "\n",
        "special = 5\n",
        "\n",
        "def get_total(a, b):\n",
        "    #enclosed scope variable declared inside a function\n",
        "    total = a + b\n",
        "    print(special)\n",
        "\n",
        "    def double_it():\n",
        "        #local variable\n",
        "        double = total * 2\n",
        "        print(special)\n",
        "\n",
        "    double_it()\n",
        "\n",
        "    return total\n",
        "get_total(2,5)"
      ]
    },
    {
      "cell_type": "markdown",
      "metadata": {
        "id": "7wCZohcn6v7p"
      },
      "source": [
        "4. **Built-in scope**\n",
        "Built-in scope refers to the reserved keywords that Python uses for its built-in functions, such as print, def, for, in, and so forth.  Functions with built-in scope can be accessed at any level."
      ]
    },
    {
      "cell_type": "markdown",
      "metadata": {
        "id": "4eQJHk043rZN"
      },
      "source": [
        "#Defining Functions\n",
        "We can create a function that writes the Fibonacci series to an arbitrary boundary:"
      ]
    },
    {
      "cell_type": "code",
      "execution_count": 14,
      "metadata": {
        "colab": {
          "base_uri": "https://localhost:8080/"
        },
        "id": "RVcMZ28X3vYH",
        "outputId": "40303157-57d0-490c-dcfe-363d9f3c222e"
      },
      "outputs": [
        {
          "name": "stdout",
          "output_type": "stream",
          "text": [
            "0 1 1 2 3 5 8 13 21 34 55 89 144 233 377 610 987 1597 \n"
          ]
        }
      ],
      "source": [
        "def fib(n):    # write Fibonacci series up to n\n",
        "    \"\"\"Print a Fibonacci series up to n.\"\"\"\n",
        "    a, b = 0, 1\n",
        "    while a < n:\n",
        "        print(a, end=' ')\n",
        "        a, b = b, a+b\n",
        "    print()\n",
        "\n",
        "# Now call the function we just defined:\n",
        "fib(2000)"
      ]
    },
    {
      "cell_type": "markdown",
      "metadata": {
        "id": "Z-QBMGeS4rjH"
      },
      "source": [
        "The keyword def introduces a function definition. It must be followed by the function name and the parenthesized list of formal parameters. The statements that form the body of the function start at the next line, and must be indented.\n",
        "\n",
        "The first statement of the function body can optionally be a string literal; this string literal is the function’s documentation string, or docstring. There are tools which use docstrings to automatically produce online or printed documentation, or to let the user interactively browse through code; it’s good practice to include docstrings in code that you write, so make a habit of it.\n",
        "\n",
        "The execution of a function introduces a new symbol table used for the local variables of the function. More precisely, all variable assignments in a function store the value in the local symbol table; whereas variable references first look in the local symbol table, then in the local symbol tables of enclosing functions, then in the global symbol table, and finally in the table of built-in names. Thus, global variables and variables of enclosing functions cannot be directly assigned a value within a function (unless, for global variables, named in a global statement, or, for variables of enclosing functions, named in a nonlocal statement), although they may be referenced.\n",
        "\n",
        "The actual parameters (arguments) to a function call are introduced in the local symbol table of the called function when it is called; thus, arguments are passed using call by value (where the value is always an object reference, not the value of the object).When a function calls another function, or calls itself recursively, a new local symbol table is created for that call.\n",
        "\n",
        "A function definition associates the function name with the function object in the current symbol table. The interpreter recognizes the object pointed to by that name as a user-defined function. Other names can also point to that same function object and can also be used to access the function:"
      ]
    }
  ],
  "metadata": {
    "colab": {
      "provenance": []
    },
    "kernelspec": {
      "display_name": "eda_env",
      "language": "python",
      "name": "python3"
    },
    "language_info": {
      "codemirror_mode": {
        "name": "ipython",
        "version": 3
      },
      "file_extension": ".py",
      "mimetype": "text/x-python",
      "name": "python",
      "nbconvert_exporter": "python",
      "pygments_lexer": "ipython3",
      "version": "3.9.18"
    }
  },
  "nbformat": 4,
  "nbformat_minor": 0
}
