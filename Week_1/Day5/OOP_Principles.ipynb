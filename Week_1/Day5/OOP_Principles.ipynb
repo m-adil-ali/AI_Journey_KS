{
  "cells": [
    {
      "cell_type": "markdown",
      "metadata": {
        "id": "lUe0merE70wQ"
      },
      "source": [
        "#OOP Principles\n",
        "This reading introduces you to the OOP principles in more detail using some examples.\n",
        "\n",
        "The object oriented paradigm was introduced in the 1960s by Alan Kay. At the time, the paradigm was not the best computing solution given the small scalability of software developed then. As the complexity of software and real-life applications improved, object oriented principles became a better solution.\n",
        "\n",
        "You previously encountered the four main pillars of object oriented programming. These are:  encapsulation, polymorphism, inheritance and abstraction. Let's look at a few examples that demonstrate how these principles translate when using Python.\n",
        "\n",
        "**Encapsulation**\n",
        "The idea of encapsulation is to have methods and variables within the bounds of a given unit. In the case of Python, this unit is called a class. And the members of a class become locally bound to that class. These concepts are better understood with scope, such as global scope (which in simple terms is the files I am working with), and local scope (which refers to the method and variables that are 'local' to a class). Encapsulation thus helps in establishing these scopes to some extent.\n",
        "\n",
        "For example, the Little Lemon company may have different departments such as inventory, marketing and accounts. And you may be required to deal with the data and operations for each of them separately. Classes and objects help in encapsulating and in turn restrict the different functionalities.\n",
        "\n",
        "Encapsulation is also used for hiding data and its internal representation. The term for this is information hiding.  Python has a way to deal with it, but it is better implemented in other programming languages such as Java and C++. Access modifiers represented by keywords such as public, private and protected are used for information hiding. The use of single and double underscores for this purpose in Python is a substitute for this practice. For example, let's examine an example of protected members in Python.\n"
      ]
    },
    {
      "cell_type": "code",
      "execution_count": 1,
      "metadata": {
        "id": "AIEKtQWZ8CXY"
      },
      "outputs": [],
      "source": [
        "class Alpha:\n",
        "\n",
        "    def __init__(self):\n",
        "        self._a = 2.  # Protected member ‘a’    \n",
        "        self.__b = 2.  # Private member ‘b’"
      ]
    },
    {
      "cell_type": "markdown",
      "metadata": {
        "id": "oyFWsGmL8qeP"
      },
      "source": [
        "self._a is a protected member and can be accessed by the class and its subclasses.\n",
        "\n",
        "Private members in Python are conventionally used with preceding double underscores: __. self.__b is a private member of the class Alpha and can only be accessed from within the class Alpha.\n",
        "\n",
        "It should be noted that these private and protected members can still be accessed from outside of the class by using public methods to access them or by a practice known as name mangling. Name mangling is the use of two leading underscores and one trailing underscore, for example:\n",
        "\n",
        "_class__identifier\n",
        "\n",
        "Class is the name of the class and identifier is the data member that I want to access.\n",
        "\n",
        "**Polymorphism**\n",
        "Polymorphism refers to something that can have many forms. In this case, a given object. Remember that everything in Python is inherently an object, so when I talk about polymorphism, it can be an operator, method or any object of some class. I can illustrate the case for polymorphism using built-in functions and operations, for example:"
      ]
    },
    {
      "cell_type": "code",
      "execution_count": 2,
      "metadata": {
        "colab": {
          "base_uri": "https://localhost:8080/"
        },
        "id": "UqVefpBk8yKj",
        "outputId": "b1b31048-f5a6-4d14-d8dd-5b830a32e362"
      },
      "outputs": [
        {
          "name": "stdout",
          "output_type": "stream",
          "text": [
            "polypolypoly 21 [1, 2, 3, 1, 2, 3, 1, 2, 3]\n"
          ]
        }
      ],
      "source": [
        "string = \"poly\"\n",
        "num = 7\n",
        "sequence = [1,2,3]\n",
        "new_str = string * 3\n",
        "new_num = 7 * 3\n",
        "new_sequence = sequence * 3\n",
        "\n",
        "print(new_str, new_num, new_sequence)"
      ]
    },
    {
      "cell_type": "markdown",
      "metadata": {
        "id": "9sLt7o8N9G4O"
      },
      "source": [
        "In the example, I have used the same operator () to perform on a string, integer and a list. You can see the () operator behaves differently in all three cases.\n",
        "\n",
        "Let's examine one more example."
      ]
    },
    {
      "cell_type": "code",
      "execution_count": 7,
      "metadata": {},
      "outputs": [
        {
          "name": "stdout",
          "output_type": "stream",
          "text": [
            "hellohellhellhell\n"
          ]
        }
      ],
      "source": [
        "str = \"hello\"\n",
        "str1 = \"hell\"\n",
        "print(str + str1 * 3)"
      ]
    },
    {
      "cell_type": "code",
      "execution_count": 3,
      "metadata": {
        "colab": {
          "base_uri": "https://localhost:8080/"
        },
        "id": "Pxh90Edj9IUs",
        "outputId": "99b9fda3-decc-4823-9783-0d9383593c7f"
      },
      "outputs": [
        {
          "name": "stdout",
          "output_type": "stream",
          "text": [
            "4\n",
            "3\n"
          ]
        }
      ],
      "source": [
        "string = \"poly\"\n",
        "sequence = [1,2,3]\n",
        "print(len(string))\n",
        "print(len(sequence))"
      ]
    },
    {
      "cell_type": "markdown",
      "metadata": {
        "id": "3gGuAvKm9O9q"
      },
      "source": [
        "The len() function is able to take variable inputs. In the example above it is a string and a list that provides the output in integer format.\n",
        "\n",
        "#Inheritance\n",
        "Inheritance in Python will be covered later in the course, but the basic template for it is as follows:"
      ]
    },
    {
      "cell_type": "code",
      "execution_count": null,
      "metadata": {
        "colab": {
          "base_uri": "https://localhost:8080/",
          "height": 106
        },
        "id": "bse_1LUJ9Q0L",
        "outputId": "68f65e7b-588b-4736-c1be-996f9b8713b2"
      },
      "outputs": [
        {
          "ename": "SyntaxError",
          "evalue": "invalid syntax (<ipython-input-3-604d94ee1850>, line 2)",
          "output_type": "error",
          "traceback": [
            "\u001b[0;36m  File \u001b[0;32m\"<ipython-input-3-604d94ee1850>\"\u001b[0;36m, line \u001b[0;32m2\u001b[0m\n\u001b[0;31m    Members of the parent class\u001b[0m\n\u001b[0m            ^\u001b[0m\n\u001b[0;31mSyntaxError\u001b[0m\u001b[0;31m:\u001b[0m invalid syntax\n"
          ]
        }
      ],
      "source": [
        "class Parent:\n",
        "    Members of the parent class\n",
        "\n",
        "class Child(Parent):\n",
        "    Inherited members from parent class\n",
        "    Additional members of the child class"
      ]
    },
    {
      "cell_type": "markdown",
      "metadata": {
        "id": "-qrSSVDG9tqI"
      },
      "source": [
        "As the structure of inheritance gets more complicated, Python adheres to something called the Method Resolution Order (MRO) that determines the flow of execution. MRO is a set of rules, or an algorithm, that Python uses to implement monotonicity, which refers to the order or sequence in which the interpreter will look for the variables and functions to implement. This also helps in determining the scope of the different members of the given class.\n",
        "\n",
        "#Abstraction\n",
        "Abstraction can be seen both as a means for hiding important information as well as unnecessary information in a block of code. The core of abstraction in Python is the implementation of something called abstract classes and methods, which can be implemented by inheriting from something called the abc module. \"abc\" here stands for abstract base class. It is first imported and then used as a parent class for some class that becomes an abstract class. Its simplest implementation can be done as below."
      ]
    },
    {
      "cell_type": "code",
      "execution_count": 9,
      "metadata": {
        "id": "CgzqPeQu9xOR"
      },
      "outputs": [],
      "source": [
        "from abc import ABC\n",
        "class ClassName(ABC):\n",
        "    pass"
      ]
    },
    {
      "cell_type": "markdown",
      "metadata": {
        "id": "U-E43sWQ9_-v"
      },
      "source": [
        "#Exercise: Define a Class\n",
        "**Learning Objectives**\n",
        "You have encountered the basic principles of Object Oriented programming and in some preliminary ways demonstrated how the different principles can be put into practice with the help of classes, the building blocks of OOP. Let us now look at the structure of these classes.\n",
        "\n",
        "Here you will learn how to create classes and objects with the help of examples. Let's first look at the basic members of a class. These can be the attributes or the data members, the methods, and additionally the comments that you can include. These members can be shown with the help of an example below. Let us imagine you want to make a class of some house. You begin by creating a class for it.\n",
        "\n",
        "**Example 1**"
      ]
    },
    {
      "cell_type": "code",
      "execution_count": 10,
      "metadata": {
        "id": "cX88nLOh-F3_"
      },
      "outputs": [],
      "source": [
        "class House:\n",
        "    '''\n",
        "    This is a stub for a class representing a house that can be used to create objects and evaluate different metrics that we may require in constructing it.\n",
        "    '''\n",
        "    num_rooms = 5\n",
        "    bathrooms = 2\n",
        "    def cost_evaluation(self):\n",
        "        print(self.num_rooms)\n",
        "        pass\n",
        "        # Functionality to calculate the costs from the area of the house"
      ]
    },
    {
      "cell_type": "markdown",
      "metadata": {
        "id": "evdE6clQ-QaH"
      },
      "source": [
        "In the code above, you start with a multiline comment, which alternatively can also be called a docstring (''' enclosed comments ''' ). In the next line you have the class definition, followed by a couple of data members or attributes: num_rooms and bathrooms. This is then followed by a function definition, which is empty except for the pass keyword that basically signals Python to continue execution without throwing an error. The last line in the code block is the single-line comment preceded by #.\n",
        "\n",
        "The code completely defines the class and functions present inside it, but it is effectively not useful unless you call or instantiate it. You can do this by one of the two ways: Calling the class directly\n",
        "Instantiating an object of that class\n",
        "\n",
        "You can add a few lines of code below your code that will call the variable num_rooms on the house object and the House class after we create a house object from House class:"
      ]
    },
    {
      "cell_type": "code",
      "execution_count": 12,
      "metadata": {
        "id": "BpCVwgyo-SCM"
      },
      "outputs": [
        {
          "name": "stdout",
          "output_type": "stream",
          "text": [
            "5\n",
            "5\n",
            "2\n",
            "2\n"
          ]
        }
      ],
      "source": [
        "house = House()\n",
        "print(house.num_rooms)\n",
        "print(House.num_rooms)\n",
        "print(house.bathrooms)\n",
        "print(House.bathrooms)"
      ]
    },
    {
      "cell_type": "markdown",
      "metadata": {
        "id": "AYM_-xHu-Yjb"
      },
      "source": [
        "To follow up with this example, add few more lines to this code and see the output, this time after you have updated the num_rooms variable called on house object to 7:"
      ]
    },
    {
      "cell_type": "code",
      "execution_count": 14,
      "metadata": {
        "id": "XGme26WM-ZeE"
      },
      "outputs": [
        {
          "name": "stdout",
          "output_type": "stream",
          "text": [
            "7\n",
            "5\n",
            "13\n",
            "2\n"
          ]
        }
      ],
      "source": [
        "house.num_rooms = 7\n",
        "house.bathrooms = 13\n",
        "print(house.num_rooms)\n",
        "print(House.num_rooms)\n",
        "print(house.bathrooms)\n",
        "print(House.bathrooms)"
      ]
    },
    {
      "cell_type": "markdown",
      "metadata": {
        "id": "18cPqERj-c_G"
      },
      "source": [
        "What has happened in the code above is, you have created an instance of a class called house and then modified the attribute for that instance with a value of 7. It updates the value of the instance attribute, but not the class attribute. So the num_rooms attribute of the class remains unchanged as 5, but the instance attribute associated with house object changes to 7. Let's now insert an alternate piece of code in this.\n",
        "\n",
        "This time, instead of an instance attribute, you will modify the class attribute by directly calling it over the class as follows:"
      ]
    },
    {
      "cell_type": "code",
      "execution_count": 16,
      "metadata": {
        "id": "teOaRXCM-ife"
      },
      "outputs": [
        {
          "name": "stdout",
          "output_type": "stream",
          "text": [
            "7\n",
            "4\n",
            "13\n",
            "20\n"
          ]
        }
      ],
      "source": [
        "House.num_rooms = 4\n",
        "House.bathrooms = 20\n",
        "print(house.num_rooms)\n",
        "print(House.num_rooms)\n",
        "print(house.bathrooms)\n",
        "print(House.bathrooms)"
      ]
    },
    {
      "cell_type": "markdown",
      "metadata": {
        "id": "csr3L_QK-kcv"
      },
      "source": [
        "You will notice that the changes on a class attribute will affect even the instances that you will create over it. Also note the use of the keywork self  in this example. self is a convention in Python, and you may use any other word in its place, but as a practice, it is easy to recognize. self here is passed inside the method cost_evaluation() as it is an instance method and facilitates the method to point to any instance of the House when that method is called. It should be noted how any number of parameters can be passed to these instance methods but the first one is always the reference to the instance of that class.\n",
        "\n",
        "You can interact and run the entire program that you just saw in the code block below:"
      ]
    },
    {
      "cell_type": "code",
      "execution_count": 17,
      "metadata": {
        "id": "syAogt_t-nm8"
      },
      "outputs": [
        {
          "name": "stdout",
          "output_type": "stream",
          "text": [
            "5\n",
            "5\n",
            "7\n",
            "5\n",
            "7\n",
            "7\n"
          ]
        }
      ],
      "source": [
        "class House:\n",
        "    '''\n",
        "    This is a stub for a class representing a house that can be used to create objects and evaluate different metrics that we may require in constructing it.\n",
        "    '''\n",
        "    num_rooms = 5\n",
        "    bathrooms = 2\n",
        "    def cost_evaluation(self):\n",
        "        print(self.num_rooms)\n",
        "        pass\n",
        "        # Functionality to calculate the costs from the area of the house\n",
        "\n",
        "house = House()\n",
        "print(house.num_rooms)\n",
        "print(House.num_rooms)\n",
        "\n",
        "house.num_rooms = 7\n",
        "print(house.num_rooms)\n",
        "print(House.num_rooms)\n",
        "\n",
        "House.num_rooms = 7\n",
        "print(house.num_rooms)\n",
        "print(House.num_rooms)"
      ]
    },
    {
      "cell_type": "code",
      "execution_count": null,
      "metadata": {},
      "outputs": [],
      "source": []
    }
  ],
  "metadata": {
    "colab": {
      "provenance": []
    },
    "kernelspec": {
      "display_name": "eda_env",
      "language": "python",
      "name": "python3"
    },
    "language_info": {
      "codemirror_mode": {
        "name": "ipython",
        "version": 3
      },
      "file_extension": ".py",
      "mimetype": "text/x-python",
      "name": "python",
      "nbconvert_exporter": "python",
      "pygments_lexer": "ipython3",
      "version": "3.9.18"
    }
  },
  "nbformat": 4,
  "nbformat_minor": 0
}
