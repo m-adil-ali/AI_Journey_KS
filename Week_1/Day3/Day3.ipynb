{
 "cells": [
  {
   "cell_type": "markdown",
   "metadata": {},
   "source": [
    "# 1"
   ]
  },
  {
   "cell_type": "code",
   "execution_count": 3,
   "metadata": {},
   "outputs": [
    {
     "name": "stdout",
     "output_type": "stream",
     "text": [
      "Making a shirt with message: Hussainiyat Zindabad of size: large\n"
     ]
    }
   ],
   "source": [
    "def make_shirt(size, message):\n",
    "    print(f'Making a shirt with message: {message}, of size: {size}')\n",
    "    \n",
    "make_shirt('large', 'Hussainiyat Zindabad')"
   ]
  },
  {
   "cell_type": "markdown",
   "metadata": {},
   "source": [
    "# 2"
   ]
  },
  {
   "cell_type": "code",
   "execution_count": 4,
   "metadata": {},
   "outputs": [
    {
     "name": "stdout",
     "output_type": "stream",
     "text": [
      "Making a shirt with message: I love Python of size: large\n",
      "Making a shirt with message: I love Python of size: medium\n",
      "Making a shirt with message: AI is the new electricity of size: small\n"
     ]
    }
   ],
   "source": [
    "def make_shirt(size = 'large', message= 'I love Python'):\n",
    "    print(f'Making a shirt with message: {message}, of size: {size}')\n",
    "    \n",
    "make_shirt('large',)\n",
    "make_shirt('medium',)\n",
    "make_shirt('small','AI is the new electricity')"
   ]
  },
  {
   "cell_type": "markdown",
   "metadata": {},
   "source": [
    "# 3"
   ]
  },
  {
   "cell_type": "code",
   "execution_count": 1,
   "metadata": {},
   "outputs": [
    {
     "name": "stdout",
     "output_type": "stream",
     "text": [
      "messages:\n",
      "short message 1\n",
      "short message 2\n",
      "short message 3\n"
     ]
    }
   ],
   "source": [
    "ls = ['short message 1','short message 2','short message 3']\n",
    "\n",
    "def show(list):\n",
    "    print(\"messages:\")\n",
    "    for i in list:\n",
    "        print(i)\n",
    "        \n",
    "show(ls)"
   ]
  },
  {
   "cell_type": "markdown",
   "metadata": {},
   "source": [
    "# 4"
   ]
  },
  {
   "cell_type": "code",
   "execution_count": 8,
   "metadata": {},
   "outputs": [
    {
     "name": "stdout",
     "output_type": "stream",
     "text": [
      "The amount of insurance you should buy for your property is: $160.0\n"
     ]
    }
   ],
   "source": [
    "def insurance_cost():\n",
    "    \n",
    "    price = float(input('Enter the replacement cost of your property.'))\n",
    "    \n",
    "    print(f'The amount of insurance you should buy for your property is: ${price*0.8}')\n",
    "    \n",
    "insurance_cost()\n",
    "\n",
    "# Alternatively,\n",
    "\n",
    "# def insure(n = int(input('what is ur amount:'))):\n",
    "#     print('The amount you need:', n*0.8)\n",
    "    \n",
    "# insure()"
   ]
  },
  {
   "cell_type": "markdown",
   "metadata": {},
   "source": [
    "# 5"
   ]
  },
  {
   "cell_type": "code",
   "execution_count": 10,
   "metadata": {},
   "outputs": [
    {
     "name": "stdout",
     "output_type": "stream",
     "text": [
      "The total expense is: 39.0 + 23.0 + 1.0 + 34.0 + 32.0 + 12 = $141.0\n"
     ]
    }
   ],
   "source": [
    "def expense():\n",
    "    loan = float(input('Enter Loan payment amount:'))\n",
    "    insurance = float(input('Enter insurance amount:'))\n",
    "    gas = float(input('Enter the expense of gas:'))\n",
    "    oil = float(input('Enter the expense of oil:'))\n",
    "    tire = float(input('Enter the expense of tires:'))\n",
    "    maint = float(input('Enter the expense of maintenance:'))\n",
    "    \n",
    "    total_expanse = loan + insurance + gas + oil + tire + maint\n",
    "    \n",
    "    print(f'The total expense is: {loan} + {insurance} + {gas} + {oil} + {tire} + {maint} = ${total_expanse}')\n",
    "    \n",
    "expense()"
   ]
  },
  {
   "cell_type": "markdown",
   "metadata": {},
   "source": [
    "# 6"
   ]
  },
  {
   "cell_type": "code",
   "execution_count": 12,
   "metadata": {},
   "outputs": [
    {
     "name": "stdout",
     "output_type": "stream",
     "text": [
      "The total annual expense is: 2.0*12 + 3.0*12 + 4.0*12 + 5.0*12 + 6.0*12 + 7.0*12 = $324.0\n"
     ]
    }
   ],
   "source": [
    "def mon_expense():\n",
    "    loan = float(input('Enter the monthly expense of Loan payment amount:'))\n",
    "    insurance = float(input('Enter the monthly expense of insurance amount:'))\n",
    "    gas = float(input('Enter the monthly expense of gas:'))\n",
    "    oil = float(input('Enter the monthly expense of oil:'))\n",
    "    tire = float(input('Enter the monthly expense of tires:'))\n",
    "    maint = float(input('Enter the monthly expense of maintenance:'))\n",
    "    \n",
    "    total_expanse = loan*12 + insurance*12 + gas*12 + oil*12 + tire*12 + maint*12\n",
    "    \n",
    "    print(f'The total annual expense is: {loan}*12 + {insurance}*12 + {gas}*12 + {oil}*12 + {tire}*12 + {maint}*12 = ${total_expanse}')\n",
    "    \n",
    "mon_expense()"
   ]
  },
  {
   "cell_type": "markdown",
   "metadata": {},
   "source": [
    "# 7"
   ]
  },
  {
   "cell_type": "code",
   "execution_count": 22,
   "metadata": {},
   "outputs": [
    {
     "name": "stdout",
     "output_type": "stream",
     "text": [
      "The assessment value is: 99.0\n",
      "The property tax is: 0.71\n"
     ]
    }
   ],
   "source": [
    "def tax():\n",
    "    actual = float(input('Enter the actual value of your property: '))\n",
    "    assessment = float(actual*0.6)\n",
    "    tax = round((assessment/100) * 0.72,2)\n",
    "    \n",
    "    print(f'The assessment value is: {assessment}\\nThe property tax is: {tax}')\n",
    "tax()"
   ]
  },
  {
   "cell_type": "code",
   "execution_count": 23,
   "metadata": {},
   "outputs": [
    {
     "name": "stdout",
     "output_type": "stream",
     "text": [
      "You consume 2106.0 calories from fat and 92.0 calories from carbohydrates\n"
     ]
    }
   ],
   "source": [
    "def help():\n",
    "    fat = float(input('Enter the fat grams you consume on daily basis: '))\n",
    "    carb = float(input('Enter the carbohydrates grams you consume on daily basis: '))\n",
    "    fatcal = fat*9\n",
    "    carbcal = carb*4\n",
    "    \n",
    "    print(f'You consume {fatcal} calories from fat and {carbcal} calories from carbohydrates')\n",
    "    \n",
    "help()"
   ]
  },
  {
   "cell_type": "code",
   "execution_count": null,
   "metadata": {},
   "outputs": [],
   "source": []
  }
 ],
 "metadata": {
  "kernelspec": {
   "display_name": "eda_env",
   "language": "python",
   "name": "python3"
  },
  "language_info": {
   "codemirror_mode": {
    "name": "ipython",
    "version": 3
   },
   "file_extension": ".py",
   "mimetype": "text/x-python",
   "name": "python",
   "nbconvert_exporter": "python",
   "pygments_lexer": "ipython3",
   "version": "3.9.18"
  }
 },
 "nbformat": 4,
 "nbformat_minor": 2
}
