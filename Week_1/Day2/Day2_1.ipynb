{
 "cells": [
  {
   "cell_type": "markdown",
   "metadata": {},
   "source": [
    "# Question 1"
   ]
  },
  {
   "cell_type": "code",
   "execution_count": 3,
   "metadata": {},
   "outputs": [
    {
     "name": "stdout",
     "output_type": "stream",
     "text": [
      "my favorite is fajita pizza\n",
      "my favorite is pepperoni pizza\n",
      "my favorite is beef pizza\n",
      "my favorite is chicken pizza\n",
      "__________________________________________________\n",
      "I like this type of pizza very much:\n",
      "('fajita', 'pepperoni')\n",
      "I really like pizza very much.      \n"
     ]
    }
   ],
   "source": [
    "fav_pizzas = ['fajita', 'pepperoni','beef','chicken']\n",
    "\n",
    "for i in range(len(fav_pizzas)):\n",
    "    print(f'my favorite is {fav_pizzas[i]} pizza')\n",
    "    \n",
    "print('_'*50)\n",
    "print(f\"\"\"I like this type of pizza very much:\n",
    "{fav_pizzas[0], fav_pizzas[1]}\n",
    "I really like pizza very much.      \"\"\")"
   ]
  },
  {
   "cell_type": "markdown",
   "metadata": {},
   "source": [
    "# 2"
   ]
  },
  {
   "cell_type": "code",
   "execution_count": 6,
   "metadata": {},
   "outputs": [
    {
     "name": "stdout",
     "output_type": "stream",
     "text": [
      "animal 0: tiger\n",
      "animal 1: snow leopard\n",
      "animal 2: lion\n",
      "statement about animals:\n",
      "tiger climbs trees easily.\n",
      "snow leopard lives in very low temperature.\n",
      "lion roars hard.\n",
      "Common things in these animals:\n",
      "All of them are omnivours.\n"
     ]
    }
   ],
   "source": [
    "animal = ['tiger','snow leopard','lion']\n",
    "\n",
    "\n",
    "for i in range(len(animal)):\n",
    "    print(f'animal {i}: {animal[i]}')\n",
    "    \n",
    "print(f'statement about animals:\\n{animal[0]} climbs trees easily.\\n{animal[1]} lives in very low temperature.\\n{animal[2]} roars hard.\\nCommon things in these animals:\\nAll of them are omnivours.')\n"
   ]
  },
  {
   "cell_type": "markdown",
   "metadata": {},
   "source": [
    "# 3"
   ]
  },
  {
   "cell_type": "code",
   "execution_count": 10,
   "metadata": {},
   "outputs": [
    {
     "name": "stdout",
     "output_type": "stream",
     "text": [
      "counting of 20 numbers:\n",
      "1\n",
      "2\n",
      "3\n",
      "4\n",
      "5\n",
      "6\n",
      "7\n",
      "8\n",
      "9\n",
      "10\n",
      "11\n",
      "12\n",
      "13\n",
      "14\n",
      "15\n",
      "16\n",
      "17\n",
      "18\n",
      "19\n",
      "20\n"
     ]
    }
   ],
   "source": [
    "print('counting of 20 numbers:')\n",
    "for i in range(21):\n",
    "    if i > 0:\n",
    "        print(i)"
   ]
  },
  {
   "cell_type": "markdown",
   "metadata": {},
   "source": [
    "# 5"
   ]
  },
  {
   "cell_type": "code",
   "execution_count": 14,
   "metadata": {},
   "outputs": [
    {
     "name": "stdout",
     "output_type": "stream",
     "text": [
      "1\n",
      "100000\n",
      "5000050000\n"
     ]
    }
   ],
   "source": [
    "list = []\n",
    "for i in range(100001):\n",
    "    if i > 0:\n",
    "        list.append(i)\n",
    "        \n",
    "        \n",
    "print(min(list))\n",
    "print(max(list))\n",
    "\n",
    "sum = sum(list)\n",
    "print(sum)\n"
   ]
  },
  {
   "cell_type": "markdown",
   "metadata": {},
   "source": [
    "# 6"
   ]
  },
  {
   "cell_type": "code",
   "execution_count": 24,
   "metadata": {},
   "outputs": [
    {
     "name": "stdout",
     "output_type": "stream",
     "text": [
      "1\n",
      "3\n",
      "5\n",
      "7\n",
      "9\n",
      "11\n",
      "13\n",
      "15\n",
      "17\n",
      "19\n"
     ]
    }
   ],
   "source": [
    "for i in range(1,20,2):\n",
    "    print(i)\n",
    "    "
   ]
  },
  {
   "cell_type": "markdown",
   "metadata": {},
   "source": [
    "# 7"
   ]
  },
  {
   "cell_type": "code",
   "execution_count": 22,
   "metadata": {},
   "outputs": [
    {
     "name": "stdout",
     "output_type": "stream",
     "text": [
      "3\n",
      "6\n",
      "9\n",
      "12\n",
      "15\n",
      "18\n",
      "21\n",
      "24\n",
      "27\n"
     ]
    }
   ],
   "source": [
    "for i in range(3,30):\n",
    "    if i%3 == 0:\n",
    "        print(i)"
   ]
  },
  {
   "cell_type": "markdown",
   "metadata": {},
   "source": [
    "# 8"
   ]
  },
  {
   "cell_type": "code",
   "execution_count": 3,
   "metadata": {},
   "outputs": [
    {
     "name": "stdout",
     "output_type": "stream",
     "text": [
      "1\n",
      "8\n",
      "27\n",
      "64\n",
      "125\n",
      "216\n",
      "343\n",
      "512\n",
      "729\n",
      "1000\n"
     ]
    }
   ],
   "source": [
    "cube = []\n",
    "\n",
    "for i in range(1,11):\n",
    "    cube.append(i**3)\n",
    "    \n",
    "for i in cube:\n",
    "    print(i)\n",
    "\n",
    "# alternate\n",
    "# for i in range(1,11):\n",
    "#     print(f'Cube of {i} is: {i**3}')"
   ]
  },
  {
   "cell_type": "markdown",
   "metadata": {},
   "source": [
    "# 9"
   ]
  },
  {
   "cell_type": "code",
   "execution_count": 20,
   "metadata": {},
   "outputs": [
    {
     "name": "stdout",
     "output_type": "stream",
     "text": [
      "[1, 2, 3, 4, 5, 6, 7, 8, 9, 10]\n",
      "[1, 8, 27, 64, 125, 216, 343, 512, 729, 1000]\n"
     ]
    }
   ],
   "source": [
    "ls = [1,2,3,4,5,6,7,8,9,10]\n",
    "nls = []\n",
    "\n",
    "for i in range(len(ls)):\n",
    "    nls.append(ls[i] ** 3) \n",
    "\n",
    "print(ls)\n",
    "print(nls)"
   ]
  },
  {
   "cell_type": "markdown",
   "metadata": {},
   "source": [
    "# 11"
   ]
  },
  {
   "cell_type": "code",
   "execution_count": 7,
   "metadata": {},
   "outputs": [
    {
     "name": "stdout",
     "output_type": "stream",
     "text": [
      "my favorite pizzas are:\n",
      "fajita\n",
      "pepperoni\n",
      "beef\n",
      "chicken\n",
      "cheese\n",
      "my friends favorite pizzas are:\n",
      "fajita\n",
      "pepperoni\n",
      "beef\n",
      "chicken\n",
      "stack\n"
     ]
    }
   ],
   "source": [
    "fav_pizzas = ['fajita', 'pepperoni','beef','chicken']\n",
    "\n",
    "friend_pizzas = ['fajita', 'pepperoni','beef','chicken']\n",
    "\n",
    "fav_pizzas.append('cheese')\n",
    "\n",
    "friend_pizzas.append('stack')\n",
    "\n",
    "print('my favorite pizzas are:')\n",
    "for i in range(len(fav_pizzas)):\n",
    "    print(fav_pizzas[i])\n",
    "    \n",
    "print('my friends favorite pizzas are:')\n",
    "for i in range(len(friend_pizzas)):\n",
    "    print(friend_pizzas[i])\n"
   ]
  },
  {
   "cell_type": "markdown",
   "metadata": {},
   "source": [
    "# 13"
   ]
  },
  {
   "cell_type": "code",
   "execution_count": 10,
   "metadata": {},
   "outputs": [
    {
     "name": "stdout",
     "output_type": "stream",
     "text": [
      "bindi\n",
      "baingan\n",
      "kari pakora\n",
      "aalo anda\n",
      "daal chawal\n"
     ]
    }
   ],
   "source": [
    "food = ('bindi', 'baingan', 'kari pakora', 'aalo anda', 'daal chawal')\n",
    "for i in food:\n",
    "    print(i)\n"
   ]
  },
  {
   "cell_type": "code",
   "execution_count": 13,
   "metadata": {},
   "outputs": [
    {
     "ename": "SyntaxError",
     "evalue": "cannot assign to function call (2408531437.py, line 1)",
     "output_type": "error",
     "traceback": [
      "\u001b[1;36m  Cell \u001b[1;32mIn[13], line 1\u001b[1;36m\u001b[0m\n\u001b[1;33m    food(1) = 'salad'\u001b[0m\n\u001b[1;37m    ^\u001b[0m\n\u001b[1;31mSyntaxError\u001b[0m\u001b[1;31m:\u001b[0m cannot assign to function call\n"
     ]
    }
   ],
   "source": [
    "food(1) = 'salad'"
   ]
  },
  {
   "cell_type": "code",
   "execution_count": 22,
   "metadata": {},
   "outputs": [
    {
     "name": "stdout",
     "output_type": "stream",
     "text": [
      "bindi\n",
      "palak\n",
      "kari pakora\n",
      "methi\n",
      "daal chawal\n"
     ]
    }
   ],
   "source": [
    "food = ('bindi', 'baingan', 'kari pakora', 'aalo anda', 'daal chawal')\n",
    "x = list(food)\n",
    "x[1] = 'palak'\n",
    "x[3] = 'methi'\n",
    "\n",
    "food = tuple(x)\n",
    "for i in food:\n",
    "    print(i)"
   ]
  },
  {
   "cell_type": "code",
   "execution_count": null,
   "metadata": {},
   "outputs": [],
   "source": []
  }
 ],
 "metadata": {
  "kernelspec": {
   "display_name": "eda_env",
   "language": "python",
   "name": "python3"
  },
  "language_info": {
   "codemirror_mode": {
    "name": "ipython",
    "version": 3
   },
   "file_extension": ".py",
   "mimetype": "text/x-python",
   "name": "python",
   "nbconvert_exporter": "python",
   "pygments_lexer": "ipython3",
   "version": "3.9.18"
  }
 },
 "nbformat": 4,
 "nbformat_minor": 2
}
