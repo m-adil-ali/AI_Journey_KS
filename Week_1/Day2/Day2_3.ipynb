{
 "cells": [
  {
   "cell_type": "markdown",
   "metadata": {},
   "source": [
    "# 1"
   ]
  },
  {
   "cell_type": "code",
   "execution_count": 22,
   "metadata": {},
   "outputs": [
    {
     "name": "stdout",
     "output_type": "stream",
     "text": [
      "{'first name': 'Asim', 'last name': 'Mehdi', 'age': 26, 'city': 'Skardu'}\n"
     ]
    }
   ],
   "source": [
    "dict = {'first name': \"Asim\",\n",
    "        \"last name\": \"Mehdi\",\n",
    "        \"age\": 26,\n",
    "        \"city\": \"Skardu\"\n",
    "        }\n",
    "\n",
    "print(dict)\n",
    "# for key in dict:\n",
    "#     print(dict[key])\n",
    "\n",
    "# for i,j in dict.items():\n",
    "#     print(f'{i}:  {j}')\n",
    "\n",
    "# for i in dict.keys():\n",
    "#     print(i)\n",
    "\n",
    "# for i in dict:\n",
    "#     print(i)"
   ]
  },
  {
   "cell_type": "markdown",
   "metadata": {},
   "source": [
    "# 2"
   ]
  },
  {
   "cell_type": "code",
   "execution_count": 23,
   "metadata": {},
   "outputs": [
    {
     "name": "stdout",
     "output_type": "stream",
     "text": [
      "Favorite number of John is 12\n",
      "Favorite number of saad is 5\n",
      "Favorite number of Taimoor is 20\n",
      "Favorite number of Haider is 30\n",
      "Favorite number of Musar is 40\n"
     ]
    }
   ],
   "source": [
    "fav = {\n",
    "    \"John\": 12,\n",
    "    \"saad\": 5,\n",
    "    \"Taimoor\": 20,\n",
    "    \"Haider\": 30,\n",
    "    \"Musar\": 40,\n",
    "}\n",
    "\n",
    "for i in fav:\n",
    "    print(f'Favorite number of {i} is {fav[i]}')"
   ]
  },
  {
   "cell_type": "markdown",
   "metadata": {},
   "source": [
    "# 3"
   ]
  },
  {
   "cell_type": "code",
   "execution_count": 24,
   "metadata": {},
   "outputs": [
    {
     "name": "stdout",
     "output_type": "stream",
     "text": [
      "for:\n",
      "  Used to iterate over the list etc\n",
      "insert:\n",
      "  used to insert values into the list\n",
      "reverse:\n",
      "  used to reverse the list\n",
      "append:\n",
      "  used to add values at the end of the list\n",
      "remove:\n",
      "  used to remove a value from the list\n"
     ]
    }
   ],
   "source": [
    "glosssary = {\n",
    "    'for': 'Used to iterate over the list etc',\n",
    "    'insert': 'used to insert values into the list',\n",
    "    'reverse': 'used to reverse the list',\n",
    "    'append': 'used to add values at the end of the list',\n",
    "    'remove': 'used to remove a value from the list',\n",
    "}\n",
    "\n",
    "for i in glosssary:\n",
    "    print(f'{i}:\\n  {glosssary[i]}')\n",
    "    \n",
    "\n"
   ]
  },
  {
   "cell_type": "markdown",
   "metadata": {},
   "source": [
    "# 4"
   ]
  },
  {
   "cell_type": "code",
   "execution_count": 25,
   "metadata": {},
   "outputs": [
    {
     "name": "stdout",
     "output_type": "stream",
     "text": [
      "for:\n",
      "  Used to iterate over the list etc\n",
      "insert:\n",
      "  used to insert values into the list\n",
      "reverse:\n",
      "  used to reverse the list\n",
      "append:\n",
      "  used to add values at the end of the list\n",
      "remove:\n",
      "  used to remove a value from the list\n",
      "pop:\n",
      "  use to delete values.\n",
      "index:\n",
      "  use to index values.\n",
      "count:\n",
      "  use to count values.\n",
      "sum:\n",
      "  use to sum values.\n"
     ]
    }
   ],
   "source": [
    "glosssary[\"pop\"] = 'use to delete values.'\n",
    "glosssary[\"index\"] = 'use to index values.'\n",
    "glosssary['count'] = 'use to count values.'\n",
    "glosssary[\"sum\"] = 'use to sum values.'\n",
    "\n",
    "for i in glosssary:\n",
    "    print(f'{i}:\\n  {glosssary[i]}')"
   ]
  },
  {
   "cell_type": "markdown",
   "metadata": {},
   "source": [
    "# 5"
   ]
  },
  {
   "cell_type": "code",
   "execution_count": 30,
   "metadata": {},
   "outputs": [
    {
     "name": "stdout",
     "output_type": "stream",
     "text": [
      "The Nile runs through Egypt\n",
      "The Indus runs through Pakistan\n",
      "The Furate runs through Iraq\n",
      "****************************************\n",
      "Rivers:\n",
      "Nile\n",
      "Indus\n",
      "Furate\n",
      "****************************************\n",
      "Countries:\n",
      "Egypt\n",
      "Pakistan\n",
      "Iraq\n"
     ]
    }
   ],
   "source": [
    "rivers = {\n",
    "    'Nile': 'Egypt',\n",
    "    'Indus': 'Pakistan',\n",
    "    'Furate': 'Iraq'\n",
    "}\n",
    "\n",
    "for i in rivers:\n",
    "    print(f'The {i} runs through {rivers[i]}')\n",
    "\n",
    "print('*'* 40)  \n",
    "print('Rivers:')\n",
    "for i in rivers:\n",
    "    print(i)\n",
    "print('*'* 40)\n",
    "print('Countries:')\n",
    "for i in rivers:\n",
    "    print(rivers[i])"
   ]
  },
  {
   "cell_type": "markdown",
   "metadata": {},
   "source": [
    "# 7"
   ]
  },
  {
   "cell_type": "code",
   "execution_count": 36,
   "metadata": {},
   "outputs": [
    {
     "name": "stdout",
     "output_type": "stream",
     "text": [
      "{'first name': 'Asim', 'last name': 'Mehdi', 'age': 26, 'city': 'Skardu'}\n",
      "{'first name': 'Saim', 'last name': 'Mehdi', 'age': 23, 'city': 'Narthang'}\n",
      "{'first name': 'Azhar', 'last name': 'Mehdi', 'age': 20, 'city': 'Gamba'}\n"
     ]
    }
   ],
   "source": [
    "dict = {'first name': \"Asim\",\n",
    "        \"last name\": \"Mehdi\",\n",
    "        \"age\": 26,\n",
    "        \"city\": \"Skardu\"\n",
    "        }\n",
    "dict1 = {'first name': \"Saim\",\n",
    "        \"last name\": \"Mehdi\",\n",
    "        \"age\": 23,\n",
    "        \"city\": \"Narthang\"\n",
    "        }\n",
    "dict2 = {'first name': \"Azhar\",\n",
    "        \"last name\": \"Mehdi\",\n",
    "        \"age\": 20,\n",
    "        \"city\": \"Gamba\"\n",
    "        }\n",
    "\n",
    "ls = [dict, dict1, dict2]\n",
    "\n",
    "for i in ls:\n",
    "    print(i)\n",
    "    "
   ]
  },
  {
   "cell_type": "markdown",
   "metadata": {},
   "source": [
    "# 8"
   ]
  },
  {
   "cell_type": "code",
   "execution_count": 37,
   "metadata": {},
   "outputs": [
    {
     "name": "stdout",
     "output_type": "stream",
     "text": [
      "{'kind': 'dog', 'owner': 'azu'}\n",
      "{'kind': 'cat', 'owner': 'annu'}\n",
      "{'kind': 'puppy', 'owner': 'salar'}\n",
      "{'kind': 'bull', 'owner': 'mazar'}\n"
     ]
    }
   ],
   "source": [
    "d = {\n",
    "    'kind': 'dog',\n",
    "    'owner': 'azu'\n",
    "}\n",
    "d1 = {\n",
    "    'kind': 'cat',\n",
    "    'owner': 'annu'\n",
    "}\n",
    "d2 = {\n",
    "    'kind': 'puppy',\n",
    "    'owner': 'salar'\n",
    "}\n",
    "d3 = {\n",
    "    'kind': 'bull',\n",
    "    'owner': 'mazar'\n",
    "}\n",
    "\n",
    "pets = [d, d1, d2, d3]\n",
    "\n",
    "for i in pets:\n",
    "    print(i)"
   ]
  },
  {
   "cell_type": "markdown",
   "metadata": {},
   "source": [
    "# 9"
   ]
  },
  {
   "cell_type": "code",
   "execution_count": 38,
   "metadata": {},
   "outputs": [
    {
     "name": "stdout",
     "output_type": "stream",
     "text": [
      "Favorite place of adil is chunda\n",
      "Favorite place of sajid is basho\n",
      "Favorite place of ali is naltar\n"
     ]
    }
   ],
   "source": [
    "persons = {\n",
    "    'adil': 'chunda',\n",
    "    'sajid': 'basho',\n",
    "    'ali': 'naltar'\n",
    "}\n",
    "\n",
    "for i in persons:\n",
    "    print(f'Favorite place of {i} is {persons[i]}')"
   ]
  },
  {
   "cell_type": "markdown",
   "metadata": {},
   "source": [
    "# 10"
   ]
  },
  {
   "cell_type": "code",
   "execution_count": 49,
   "metadata": {},
   "outputs": [
    {
     "name": "stdout",
     "output_type": "stream",
     "text": [
      "Favorite numbers of John are [12, 13, 4]\n",
      "Favorite numbers of saad are [2, 6, 42]\n",
      "Favorite numbers of Taimoor are [21, 39, 4]\n",
      "Favorite numbers of Haider are [3, 5, 6]\n",
      "Favorite numbers of Musar are [1, 3, 14]\n"
     ]
    }
   ],
   "source": [
    "fav = {\n",
    "    \"John\": [12,13,4],\n",
    "    \"saad\": [2,6,42],\n",
    "    \"Taimoor\": [21,39,4],\n",
    "    \"Haider\": [3,5,6],\n",
    "    \"Musar\": [1,3,14],\n",
    "}\n",
    "\n",
    "i = 0\n",
    "for i in fav:\n",
    "    print(f'Favorite numbers of {i} are {fav[i]}')\n",
    "    "
   ]
  },
  {
   "cell_type": "markdown",
   "metadata": {},
   "source": []
  },
  {
   "cell_type": "markdown",
   "metadata": {},
   "source": []
  },
  {
   "cell_type": "markdown",
   "metadata": {},
   "source": [
    "# Practice"
   ]
  },
  {
   "cell_type": "code",
   "execution_count": 21,
   "metadata": {},
   "outputs": [
    {
     "name": "stdout",
     "output_type": "stream",
     "text": [
      "dict_keys(['brand', 'model', 'year'])\n",
      "dict_keys(['brand', 'model', 'year'])\n",
      "dict_keys(['brand', 'model', 'year', 'color', 'mileage'])\n",
      "dict_values(['Ford', 'Mustang', 1964, 'white', '24'])\n",
      "dict_items([('brand', 'Ford'), ('model', 'Mustang'), ('year', 1964), ('color', 'white'), ('mileage', '24')])\n"
     ]
    }
   ],
   "source": [
    "car = {\n",
    "\"brand\": \"Ford\",\n",
    "\"model\": \"Mustang\",\n",
    "\"year\": 1964\n",
    "}\n",
    "\n",
    "x = car.keys()\n",
    "print(car.keys())\n",
    "\n",
    "print(x) #before the change\n",
    "\n",
    "car[\"color\"] = \"white\"\n",
    "car[\"mileage\"] = \"24\"\n",
    "#car[\"year\"] = \"2024\"\n",
    "\n",
    "print(x) #after the change\n",
    "\n",
    "print(car.values())\n",
    "print(car.items())\n",
    "# print(car.popitem())\n",
    "# print(car.popitem())\n",
    "# print(car.pop(\"brand\"))\n",
    "# print(car.clear())"
   ]
  },
  {
   "cell_type": "code",
   "execution_count": 23,
   "metadata": {},
   "outputs": [
    {
     "name": "stdout",
     "output_type": "stream",
     "text": [
      "brand\n",
      "model\n",
      "year\n",
      "color\n",
      "mileage\n"
     ]
    }
   ],
   "source": [
    "for x in car:\n",
    "    print(x)"
   ]
  },
  {
   "cell_type": "code",
   "execution_count": 24,
   "metadata": {},
   "outputs": [
    {
     "name": "stdout",
     "output_type": "stream",
     "text": [
      "Ford\n",
      "Mustang\n",
      "1964\n",
      "white\n",
      "24\n"
     ]
    }
   ],
   "source": [
    "for x in car:\n",
    "    print(car[x])"
   ]
  },
  {
   "cell_type": "code",
   "execution_count": 25,
   "metadata": {},
   "outputs": [
    {
     "name": "stdout",
     "output_type": "stream",
     "text": [
      "brand:  Ford\n",
      "model:  Mustang\n",
      "year:  1964\n",
      "color:  white\n",
      "mileage:  24\n"
     ]
    }
   ],
   "source": [
    "for x in car:\n",
    "    print(f'{x}:  {car[x]}')"
   ]
  },
  {
   "cell_type": "code",
   "execution_count": 26,
   "metadata": {},
   "outputs": [
    {
     "name": "stdout",
     "output_type": "stream",
     "text": [
      "brand Ford\n",
      "model Mustang\n",
      "year 1964\n",
      "color white\n",
      "mileage 24\n"
     ]
    }
   ],
   "source": [
    "for x, y in car.items():\n",
    "  print(x, y)"
   ]
  },
  {
   "cell_type": "code",
   "execution_count": null,
   "metadata": {},
   "outputs": [],
   "source": []
  }
 ],
 "metadata": {
  "kernelspec": {
   "display_name": "eda_env",
   "language": "python",
   "name": "python3"
  },
  "language_info": {
   "codemirror_mode": {
    "name": "ipython",
    "version": 3
   },
   "file_extension": ".py",
   "mimetype": "text/x-python",
   "name": "python",
   "nbconvert_exporter": "python",
   "pygments_lexer": "ipython3",
   "version": "3.9.18"
  }
 },
 "nbformat": 4,
 "nbformat_minor": 2
}
