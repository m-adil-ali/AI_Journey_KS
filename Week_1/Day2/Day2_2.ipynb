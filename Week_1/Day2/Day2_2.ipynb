{
 "cells": [
  {
   "cell_type": "markdown",
   "metadata": {},
   "source": [
    "# 1"
   ]
  },
  {
   "cell_type": "code",
   "execution_count": 3,
   "metadata": {},
   "outputs": [
    {
     "name": "stdout",
     "output_type": "stream",
     "text": [
      "You just earned 5 points\n"
     ]
    }
   ],
   "source": [
    "alien_color = 'green'\n",
    "\n",
    "if alien_color == 'green':\n",
    "    print('You just earned 5 points')"
   ]
  },
  {
   "cell_type": "code",
   "execution_count": 4,
   "metadata": {},
   "outputs": [],
   "source": [
    "alien_color = 'red'\n",
    "\n",
    "if alien_color == 'green':\n",
    "    print('You just earned 5 points')\n"
   ]
  },
  {
   "cell_type": "markdown",
   "metadata": {},
   "source": [
    "# 2"
   ]
  },
  {
   "cell_type": "code",
   "execution_count": 5,
   "metadata": {},
   "outputs": [
    {
     "name": "stdout",
     "output_type": "stream",
     "text": [
      "You earned 10 points\n"
     ]
    }
   ],
   "source": [
    "if alien_color == 'green':\n",
    "    print('You earned 5 points for shooting the alien')\n",
    "else:\n",
    "    print('You earned 10 points')"
   ]
  },
  {
   "cell_type": "markdown",
   "metadata": {},
   "source": [
    "# 4"
   ]
  },
  {
   "cell_type": "code",
   "execution_count": 7,
   "metadata": {},
   "outputs": [
    {
     "name": "stdout",
     "output_type": "stream",
     "text": [
      "You earned 15 points\n"
     ]
    }
   ],
   "source": [
    "alien_color = 'red'\n",
    "if alien_color == 'green':\n",
    "    print('You earned 5 points for shooting the alien')\n",
    "elif alien_color == 'yellow':\n",
    "    print('You earned 10 points')\n",
    "elif alien_color == 'red':\n",
    "    print('You earned 15 points')\n",
    "else:\n",
    "    print('You earned no points')"
   ]
  },
  {
   "cell_type": "code",
   "execution_count": 8,
   "metadata": {},
   "outputs": [
    {
     "name": "stdout",
     "output_type": "stream",
     "text": [
      "You earned 5 points for shooting the alien\n"
     ]
    }
   ],
   "source": [
    "alien_color = 'green'\n",
    "if alien_color == 'green':\n",
    "    print('You earned 5 points for shooting the alien')\n",
    "elif alien_color == 'yellow':\n",
    "    print('You earned 10 points')\n",
    "elif alien_color == 'red':\n",
    "    print('You earned 15 points')\n",
    "else:\n",
    "    print('You earned no points')"
   ]
  },
  {
   "cell_type": "code",
   "execution_count": 9,
   "metadata": {},
   "outputs": [
    {
     "name": "stdout",
     "output_type": "stream",
     "text": [
      "You earned 10 points\n"
     ]
    }
   ],
   "source": [
    "alien_color = 'yellow'\n",
    "if alien_color == 'green':\n",
    "    print('You earned 5 points for shooting the alien')\n",
    "elif alien_color == 'yellow':\n",
    "    print('You earned 10 points')\n",
    "elif alien_color == 'red':\n",
    "    print('You earned 15 points')\n",
    "else:\n",
    "    print('You earned no points')"
   ]
  },
  {
   "cell_type": "code",
   "execution_count": 10,
   "metadata": {},
   "outputs": [
    {
     "name": "stdout",
     "output_type": "stream",
     "text": [
      "You earned no points\n"
     ]
    }
   ],
   "source": [
    "alien_color = 'gray'\n",
    "if alien_color == 'green':\n",
    "    print('You earned 5 points for shooting the alien')\n",
    "elif alien_color == 'yellow':\n",
    "    print('You earned 10 points')\n",
    "elif alien_color == 'red':\n",
    "    print('You earned 15 points')\n",
    "else:\n",
    "    print('You earned no points')"
   ]
  },
  {
   "cell_type": "markdown",
   "metadata": {},
   "source": [
    "# 4"
   ]
  },
  {
   "cell_type": "code",
   "execution_count": 44,
   "metadata": {},
   "outputs": [
    {
     "name": "stdout",
     "output_type": "stream",
     "text": [
      "elder\n"
     ]
    }
   ],
   "source": [
    "age = 83\n",
    "\n",
    "if age < 2:\n",
    "    print('baby')\n",
    "elif 2 <= age < 4:\n",
    "    print('toddler')\n",
    "elif 4 <= age < 13:\n",
    "    print('kid')\n",
    "elif 13 <= age < 20:\n",
    "    print('teen')\n",
    "elif 20 <= age < 65:\n",
    "    print('young')\n",
    "elif age >= 65:\n",
    "    print('elder')\n"
   ]
  },
  {
   "cell_type": "markdown",
   "metadata": {},
   "source": [
    "# 7"
   ]
  },
  {
   "cell_type": "code",
   "execution_count": 52,
   "metadata": {},
   "outputs": [
    {
     "name": "stdout",
     "output_type": "stream",
     "text": [
      "Yes\n",
      "Yes\n",
      "You really like banana\n",
      "You really like banana\n",
      "You really like strawberry\n",
      "You really like oranges\n"
     ]
    }
   ],
   "source": [
    "fruits  = [\"apple\", \"mango\", \"papaya\", \"pineapple\", \"cherry\"]\n",
    "\n",
    "if fruits[0] == 'mango':\n",
    "    print('Yes')\n",
    "    \n",
    "if fruits[2] == 'papaya':\n",
    "    print('Yes')\n",
    "\n",
    "if fruits[-1] == 'cherry':\n",
    "    print('Yes')\n",
    "    \n",
    "fav = ['banana', 'strawberry','oranges']\n",
    "\n",
    "if fav[0] == 'oranges':\n",
    "    print(f'You really like {fav[0]}')\n",
    "if fav[0] == 'banana':\n",
    "    print(f'You really like {fav[0]}')\n",
    "if fav[0] == 'strawberry':\n",
    "    print(f'You really like {fav[0]}')\n",
    "if fav[0] == 'banana':\n",
    "    print(f'You really like {fav[0]}')\n",
    "if fav[1] == 'strawberry':\n",
    "    print(f'You really like {fav[1]}')\n",
    "if fav[2] == 'oranges':\n",
    "    print(f'You really like {fav[2]}')\n",
    "if fav[0] == 'strawberry':\n",
    "    print(f'You really like {fav[0]}')\n",
    "    \n"
   ]
  },
  {
   "cell_type": "markdown",
   "metadata": {},
   "source": [
    "# 8"
   ]
  },
  {
   "cell_type": "code",
   "execution_count": 53,
   "metadata": {},
   "outputs": [
    {
     "name": "stdout",
     "output_type": "stream",
     "text": [
      "Hello admin, would you like to see a status report.\n",
      "Hello user1, thank you for logging in again.\n",
      "Hello user2, thank you for logging in again.\n",
      "Hello user3, thank you for logging in again.\n",
      "Hello user4, thank you for logging in again.\n"
     ]
    }
   ],
   "source": [
    "user = ['admin','user1', 'user2', 'user3', 'user4']\n",
    "\n",
    "for i in range(len(user)):\n",
    "    if user[i] == 'admin':\n",
    "        print(f'Hello {user[i]}, would you like to see a status report.')\n",
    "    else:\n",
    "        print(f'Hello {user[i]}, thank you for logging in again.')"
   ]
  },
  {
   "cell_type": "markdown",
   "metadata": {},
   "source": [
    "# 9"
   ]
  },
  {
   "cell_type": "code",
   "execution_count": 56,
   "metadata": {},
   "outputs": [
    {
     "name": "stdout",
     "output_type": "stream",
     "text": [
      "['admin', 'user1', 'user2', 'user3', 'user4']\n",
      "user4 eleminated!\n",
      "['admin', 'user1', 'user2', 'user3']\n",
      "user3 eleminated!\n",
      "['admin', 'user1', 'user2']\n",
      "user2 eleminated!\n",
      "['admin', 'user1']\n",
      "user1 eleminated!\n",
      "['admin']\n",
      "admin eleminated!\n",
      "[]\n"
     ]
    }
   ],
   "source": [
    "if len(user) < 1:\n",
    "    print('We need to find more users!')\n",
    "else:\n",
    "    print(user)\n",
    "\n",
    "for i in range(len(user)):\n",
    "    print(f'{user.pop()} eleminated!')\n",
    "    print(user)\n"
   ]
  },
  {
   "cell_type": "code",
   "execution_count": 57,
   "metadata": {},
   "outputs": [
    {
     "name": "stdout",
     "output_type": "stream",
     "text": [
      "We need to find more users!\n"
     ]
    }
   ],
   "source": [
    "if len(user) < 1:\n",
    "    print('We need to find more users!')\n",
    "else:\n",
    "    print(user)"
   ]
  },
  {
   "cell_type": "markdown",
   "metadata": {},
   "source": [
    "# 10"
   ]
  },
  {
   "cell_type": "code",
   "execution_count": 82,
   "metadata": {},
   "outputs": [
    {
     "name": "stdout",
     "output_type": "stream",
     "text": [
      "admin has already occupied! Enter new user name\n",
      "user1 is availabe\n",
      "user2 has already occupied! Enter new user name\n",
      "user3 has already occupied! Enter new user name\n",
      "saad has already occupied! Enter new user name\n"
     ]
    }
   ],
   "source": [
    "current = ['admin', 'user1', 'user2', 'user3', 'saad']\n",
    "new = ['admin', 'saad', 'user2', 'user3', 'sara']\n",
    "\n",
    "for i in range(len(current)):\n",
    "    for j in range(len(new)):\n",
    "        if current[i] == new[j]:\n",
    "            print(f'{current[i]} has already occupied! Enter new user name')\n",
    "            break\n",
    "    else:\n",
    "        print(f'{current[i]} is availabe')"
   ]
  },
  {
   "cell_type": "markdown",
   "metadata": {},
   "source": [
    "check again above"
   ]
  },
  {
   "cell_type": "markdown",
   "metadata": {},
   "source": [
    "# 11"
   ]
  },
  {
   "cell_type": "code",
   "execution_count": 73,
   "metadata": {},
   "outputs": [
    {
     "name": "stdout",
     "output_type": "stream",
     "text": [
      "1st\n",
      "2nd\n",
      "3rd\n",
      "4th\n",
      "5th\n",
      "6th\n",
      "7th\n",
      "8th\n",
      "9th\n"
     ]
    }
   ],
   "source": [
    "num = [1,2,3,4,5,6,7,8,9]\n",
    "\n",
    "for i in range(len(num)):\n",
    "    if num[i] == 1:\n",
    "        print(f'{num[i]}st')\n",
    "    elif num[i] == 2:\n",
    "        print(f'{num[i]}nd')\n",
    "    elif num[i] == 3:\n",
    "        print(f'{num[i]}rd')\n",
    "    else:\n",
    "        print(f'{num[i]}th')"
   ]
  },
  {
   "cell_type": "code",
   "execution_count": null,
   "metadata": {},
   "outputs": [],
   "source": []
  }
 ],
 "metadata": {
  "kernelspec": {
   "display_name": "eda_env",
   "language": "python",
   "name": "python3"
  },
  "language_info": {
   "codemirror_mode": {
    "name": "ipython",
    "version": 3
   },
   "file_extension": ".py",
   "mimetype": "text/x-python",
   "name": "python",
   "nbconvert_exporter": "python",
   "pygments_lexer": "ipython3",
   "version": "3.9.18"
  }
 },
 "nbformat": 4,
 "nbformat_minor": 2
}
